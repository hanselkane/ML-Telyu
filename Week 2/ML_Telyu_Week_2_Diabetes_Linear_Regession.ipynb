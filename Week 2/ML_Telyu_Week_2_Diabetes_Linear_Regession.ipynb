{
  "nbformat": 4,
  "nbformat_minor": 0,
  "metadata": {
    "colab": {
      "name": "Untitled1.ipynb",
      "provenance": [],
      "authorship_tag": "ABX9TyOil7WnZOo13Or11zvYGcFf",
      "include_colab_link": true
    },
    "kernelspec": {
      "name": "python3",
      "display_name": "Python 3"
    },
    "language_info": {
      "name": "python"
    }
  },
  "cells": [
    {
      "cell_type": "markdown",
      "metadata": {
        "id": "view-in-github",
        "colab_type": "text"
      },
      "source": [
        "<a href=\"https://colab.research.google.com/github/hanselkane/ML-Telyu/blob/main/Week%202/ML_Telyu_Week_2_Diabetes_Linear_Regession.ipynb\" target=\"_parent\"><img src=\"https://colab.research.google.com/assets/colab-badge.svg\" alt=\"Open In Colab\"/></a>"
      ]
    },
    {
      "cell_type": "code",
      "execution_count": 256,
      "metadata": {
        "id": "oPOrzTOet6x-"
      },
      "outputs": [],
      "source": [
        "# Source : https://scikit-learn.org/stable/auto_examples/linear_model/plot_ols.html#sphx-glr-auto-examples-linear-model-plot-ols-py\n",
        "\n",
        "import matplotlib.pyplot as plt\n",
        "import numpy as np\n",
        "from sklearn import datasets, linear_model\n",
        "from sklearn.metrics import mean_squared_error, r2_score\n"
      ]
    },
    {
      "cell_type": "code",
      "source": [
        "# Load the diabetes dataset\n",
        "diabetes_X, diabetes_y = datasets.load_diabetes(return_X_y=True)"
      ],
      "metadata": {
        "id": "J3JC6eQkvSBp"
      },
      "execution_count": 257,
      "outputs": []
    },
    {
      "cell_type": "code",
      "source": [
        "# Use only one feature\n",
        "diabetes_X = diabetes_X[:,[2,8]]\n",
        "diabetes_X*=4\n",
        "# Split the data into training/testing sets\n",
        "diabetes_X_train = diabetes_X[:-20]\n",
        "diabetes_X_test = diabetes_X[-20:]\n",
        "\n",
        "# Split the targets into training/testing sets\n",
        "diabetes_y_train = diabetes_y[:-20]\n",
        "diabetes_y_test = diabetes_y[-20:]"
      ],
      "metadata": {
        "id": "DUV-5ArQ0P_n"
      },
      "execution_count": 258,
      "outputs": []
    },
    {
      "cell_type": "code",
      "source": [
        "# Create linear regression object\n",
        "regr = linear_model.LinearRegression()\n",
        "\n",
        "print(diabetes_X_train.shape);\n",
        "print(diabetes_y_train.shape);\n",
        "\n",
        "# Train the model using the training sets\n",
        "regr.fit(diabetes_X_train, diabetes_y_train)"
      ],
      "metadata": {
        "colab": {
          "base_uri": "https://localhost:8080/"
        },
        "id": "G84lylS70dAP",
        "outputId": "4b227658-e455-4bca-eefc-8996375edc4a"
      },
      "execution_count": 259,
      "outputs": [
        {
          "output_type": "stream",
          "name": "stdout",
          "text": [
            "(422, 2)\n",
            "(422,)\n"
          ]
        },
        {
          "output_type": "execute_result",
          "data": {
            "text/plain": [
              "LinearRegression()"
            ]
          },
          "metadata": {},
          "execution_count": 259
        }
      ]
    },
    {
      "cell_type": "code",
      "source": [
        "# Make predictions using the testing set\n",
        "diabetes_y_pred = regr.predict(diabetes_X_test)"
      ],
      "metadata": {
        "id": "wOsgdcc_4CzU"
      },
      "execution_count": 260,
      "outputs": []
    },
    {
      "cell_type": "code",
      "source": [
        "# The coefficients\n",
        "print(\"Coefficients: \\n\", regr.coef_)\n",
        "# The mean squared error\n",
        "print(\"Mean squared error: %.2f\" % mean_squared_error(diabetes_y_test, diabetes_y_pred))\n",
        "# The coefficient of determination: 1 is perfect prediction\n",
        "print(\"Coefficient of determination: %.2f\" % r2_score(diabetes_y_test, diabetes_y_pred))"
      ],
      "metadata": {
        "colab": {
          "base_uri": "https://localhost:8080/"
        },
        "id": "E-j0HVC-4Gxh",
        "outputId": "397d0776-4eab-482a-e56f-21993d464143"
      },
      "execution_count": 261,
      "outputs": [
        {
          "output_type": "stream",
          "name": "stdout",
          "text": [
            "Coefficients: \n",
            " [167.4125828  152.43333647]\n",
            "Mean squared error: 1984.51\n",
            "Coefficient of determination: 0.59\n"
          ]
        }
      ]
    },
    {
      "cell_type": "code",
      "source": [
        "# Plot outputs\n",
        "# print(diabetes_X_test[:,0].shape)\n",
        "# print(diabetes_y_pred.shape)\n",
        "\n",
        "# plt.scatter(diabetes_X_test[:,0], diabetes_y_test, color=\"black\")\n",
        "# plt.plot(diabetes_X_test[:,1], diabetes_y_pred, color=\"blue\", linewidth=3)\n",
        "\n",
        "# plt.xticks(())\n",
        "# plt.yticks(())\n",
        "\n",
        "# plt.show()"
      ],
      "metadata": {
        "id": "p8ouYpZj9UBT"
      },
      "execution_count": 262,
      "outputs": []
    },
    {
      "cell_type": "code",
      "source": [
        "from mpl_toolkits.mplot3d import Axes3D\n",
        "\n",
        "fig = plt.figure()\n",
        "ax = fig.add_subplot(111, projection='3d')\n",
        "ax.scatter(diabetes_X_test[:,0], diabetes_X_test[:,1], diabetes_y_test, marker='.', color='green')\n",
        "ax.set_xlabel(\"X1\")\n",
        "ax.set_ylabel(\"X2\")\n",
        "ax.set_zlabel(\"y\")\n",
        "\n",
        "coefs = regr.coef_\n",
        "intercept = regr.intercept_\n",
        "\n",
        "xs = np.tile(np.arange(2), (2,1))\n",
        "ys = np.tile(np.arange(2), (2,1)).T\n",
        "zs = xs*coefs[0]+ys*coefs[1]+intercept\n",
        "print(\"Equation: y = {:.2f} + {:.2f}x1 + {:.2f}x2\".format(intercept, coefs[0],\n",
        "                                                          coefs[1]))\n",
        "\n",
        "ax.plot_surface(xs,ys,zs, alpha=0.5)\n",
        "plt.show()"
      ],
      "metadata": {
        "colab": {
          "base_uri": "https://localhost:8080/",
          "height": 272
        },
        "id": "AVn4chmOFA4d",
        "outputId": "f6e98ce4-db4c-4531-e36d-4486b442f19d"
      },
      "execution_count": 266,
      "outputs": [
        {
          "output_type": "stream",
          "name": "stdout",
          "text": [
            "Equation: y = 152.95 + 167.41x1 + 152.43x2\n"
          ]
        },
        {
          "output_type": "display_data",
          "data": {
            "image/png": "[encoded data removed]",
            "text/plain": [
              "<Figure size 432x288 with 1 Axes>"
            ]
          },
          "metadata": {
            "needs_background": "light"
          }
        }
      ]
    },
    {
      "cell_type": "code",
      "source": [
        ""
      ],
      "metadata": {
        "id": "h9qC3B67IZEa"
      },
      "execution_count": 263,
      "outputs": []
    }
  ]
}