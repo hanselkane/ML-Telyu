{
  "nbformat": 4,
  "nbformat_minor": 0,
  "metadata": {
    "colab": {
      "name": "Untitled4.ipynb",
      "provenance": [],
      "toc_visible": true,
      "authorship_tag": "ABX9TyP3j+IWIgWUY7oxtjo2+9M8",
      "include_colab_link": true
    },
    "kernelspec": {
      "name": "python3",
      "display_name": "Python 3"
    },
    "language_info": {
      "name": "python"
    }
  },
  "cells": [
    {
      "cell_type": "markdown",
      "metadata": {
        "id": "view-in-github",
        "colab_type": "text"
      },
      "source": [
        "<a href=\"https://colab.research.google.com/github/hanselkane/MachineLearning-Telyu/blob/main/UTS/ML_Telyu_UTS_Telecom_Churn.ipynb\" target=\"_parent\"><img src=\"https://colab.research.google.com/assets/colab-badge.svg\" alt=\"Open In Colab\"/></a>"
      ]
    },
    {
      "cell_type": "code",
      "execution_count": null,
      "metadata": {
        "id": "MgaUrIJEnCdQ"
      },
      "outputs": [],
      "source": [
        "import numpy as np # linear algebra\n",
        "import pandas as pd # data processing, CSV file I/O (e.g. pd.read_csv)\n",
        "import seaborn as sns # For creating plots\n",
        "import matplotlib.ticker as mtick # For specifying the axes tick format \n",
        "import matplotlib.pyplot as plt\n",
        "\n",
        "sns.set(style = 'white')\n",
        "\n",
        "# Input data files are available in the \"../input/\" directory.\n",
        "\n",
        "import os"
      ]
    },
    {
      "cell_type": "code",
      "source": [
        ""
      ],
      "metadata": {
        "id": "2MVeyOQuo7PH"
      },
      "execution_count": null,
      "outputs": []
    }
  ]
}