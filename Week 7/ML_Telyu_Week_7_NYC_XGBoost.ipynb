{
  "nbformat": 4,
  "nbformat_minor": 0,
  "metadata": {
    "colab": {
      "name": "Untitled3.ipynb",
      "provenance": [],
      "authorship_tag": "ABX9TyMgq0JA+7Z1dEnpR7CqCExQ",
      "include_colab_link": true
    },
    "kernelspec": {
      "name": "python3",
      "display_name": "Python 3"
    },
    "language_info": {
      "name": "python"
    }
  },
  "cells": [
    {
      "cell_type": "markdown",
      "metadata": {
        "id": "view-in-github",
        "colab_type": "text"
      },
      "source": [
        "<a href=\"https://colab.research.google.com/github/hanselkane/MachineLearning-Telyu/blob/main/Week%207/ML_Telyu_Week_7_NYC_XGBoost.ipynb\" target=\"_parent\"><img src=\"https://colab.research.google.com/assets/colab-badge.svg\" alt=\"Open In Colab\"/></a>"
      ]
    },
    {
      "cell_type": "code",
      "execution_count": 1,
      "metadata": {
        "id": "1uNPVCX4bBjY"
      },
      "outputs": [],
      "source": [
        "%matplotlib inline\n",
        "import pandas as pd\n",
        "from datetime import datetime\n",
        "import pandas as pd\n",
        "from sklearn.model_selection import train_test_split\n",
        "import xgboost as xgb\n",
        "from sklearn.linear_model import LinearRegression, Ridge,BayesianRidge\n",
        "from sklearn.cluster import MiniBatchKMeans\n",
        "from sklearn.metrics import mean_squared_error\n",
        "from math import radians, cos, sin, asin, sqrt\n",
        "import seaborn as sns\n",
        "import matplotlib\n",
        "import numpy as np\n",
        "import matplotlib.pyplot as plt\n",
        "plt.rcParams['figure.figsize'] = [16, 10]"
      ]
    },
    {
      "cell_type": "code",
      "source": [
        "!pip install kaggle"
      ],
      "metadata": {
        "colab": {
          "base_uri": "https://localhost:8080/"
        },
        "id": "TBuJNpMn814S",
        "outputId": "8c178f02-a682-47ff-fcc3-38b9d602a261"
      },
      "execution_count": 2,
      "outputs": [
        {
          "output_type": "stream",
          "name": "stdout",
          "text": [
            "Requirement already satisfied: kaggle in /usr/local/lib/python3.7/dist-packages (1.5.12)\n",
            "Requirement already satisfied: six>=1.10 in /usr/local/lib/python3.7/dist-packages (from kaggle) (1.15.0)\n",
            "Requirement already satisfied: tqdm in /usr/local/lib/python3.7/dist-packages (from kaggle) (4.63.0)\n",
            "Requirement already satisfied: python-slugify in /usr/local/lib/python3.7/dist-packages (from kaggle) (6.1.1)\n",
            "Requirement already satisfied: urllib3 in /usr/local/lib/python3.7/dist-packages (from kaggle) (1.24.3)\n",
            "Requirement already satisfied: python-dateutil in /usr/local/lib/python3.7/dist-packages (from kaggle) (2.8.2)\n",
            "Requirement already satisfied: requests in /usr/local/lib/python3.7/dist-packages (from kaggle) (2.23.0)\n",
            "Requirement already satisfied: certifi in /usr/local/lib/python3.7/dist-packages (from kaggle) (2021.10.8)\n",
            "Requirement already satisfied: text-unidecode>=1.3 in /usr/local/lib/python3.7/dist-packages (from python-slugify->kaggle) (1.3)\n",
            "Requirement already satisfied: idna<3,>=2.5 in /usr/local/lib/python3.7/dist-packages (from requests->kaggle) (2.10)\n",
            "Requirement already satisfied: chardet<4,>=3.0.2 in /usr/local/lib/python3.7/dist-packages (from requests->kaggle) (3.0.4)\n"
          ]
        }
      ]
    },
    {
      "cell_type": "code",
      "source": [
        "# Make a directory to store kaggle token\n",
        "!mkdir ~/.kaggle # the '~' symbol is equal '/root'\n",
        "\n",
        "import json\n",
        "token ={\"username\":\"ultranumb\",\"key\":\"2339326dcd65b7b358246915b2c32954\"}\n",
        "json_object = json.dumps(token, indent = 4)\n",
        "  \n",
        "# Writing to kaggle.json\n",
        "with open(\"/root/.kaggle/kaggle.json\", \"w\") as outfile:\n",
        "    outfile.write(json_object)"
      ],
      "metadata": {
        "colab": {
          "base_uri": "https://localhost:8080/"
        },
        "id": "YI_0oOalCKGd",
        "outputId": "94bf5e05-fb70-4ccb-aad1-c8b1a6e0cd24"
      },
      "execution_count": 3,
      "outputs": [
        {
          "output_type": "stream",
          "name": "stdout",
          "text": [
            "mkdir: cannot create directory ‘/root/.kaggle’: File exists\n"
          ]
        }
      ]
    },
    {
      "cell_type": "code",
      "source": [
        "!chmod 600 ~/.kaggle/kaggle.json # Changing permission access to kaggle.json"
      ],
      "metadata": {
        "id": "ocX2OBjM92l0"
      },
      "execution_count": 4,
      "outputs": []
    },
    {
      "cell_type": "code",
      "source": [
        "# Download the dataset\n",
        "# !kaggle competitions download <name-of-the-competition>\n",
        "!kaggle competitions download nyc-taxi-trip-duration"
      ],
      "metadata": {
        "colab": {
          "base_uri": "https://localhost:8080/"
        },
        "id": "tjj0EuOM9631",
        "outputId": "4de2dccc-4037-48c7-ee3e-02bf0688d938"
      },
      "execution_count": 5,
      "outputs": [
        {
          "output_type": "stream",
          "name": "stdout",
          "text": [
            "nyc-taxi-trip-duration.zip: Skipping, found more recently modified local copy (use --force to force download)\n"
          ]
        }
      ]
    },
    {
      "cell_type": "code",
      "source": [
        "#unzip the file\n",
        "# !unzip nyc-taxi-trip-duration"
      ],
      "metadata": {
        "id": "i5OmjxnGEFTc"
      },
      "execution_count": 6,
      "outputs": []
    },
    {
      "cell_type": "code",
      "source": [
        "# You could find all of these files in file explorer\n",
        "# on the left side of your google colab screen (the folder symbol)\n",
        "# !unzip test\n",
        "# !unzip train\n",
        "# !unzip sample_submission"
      ],
      "metadata": {
        "id": "f1Yzo2AkFnCo"
      },
      "execution_count": 7,
      "outputs": []
    },
    {
      "cell_type": "code",
      "source": [
        "# Load the data\n",
        "train = pd.read_csv('./train.csv')\n",
        "test = pd.read_csv('./test.csv')"
      ],
      "metadata": {
        "id": "QDxh8xkOGZX8"
      },
      "execution_count": 8,
      "outputs": []
    },
    {
      "cell_type": "code",
      "source": [
        "pd.set_option('display.float_format', lambda x: '%.3f' % x)\n",
        "train.head()"
      ],
      "metadata": {
        "id": "8JgkdDzmLCsp",
        "outputId": "266aca2e-ae36-4fa2-a795-05362860323f",
        "colab": {
          "base_uri": "https://localhost:8080/",
          "height": 411
        }
      },
      "execution_count": 9,
      "outputs": [
        {
          "output_type": "execute_result",
          "data": {
            "text/plain": [
              "          id  vendor_id      pickup_datetime     dropoff_datetime  \\\n",
              "0  id2875421          2  2016-03-14 17:24:55  2016-03-14 17:32:30   \n",
              "1  id2377394          1  2016-06-12 00:43:35  2016-06-12 00:54:38   \n",
              "2  id3858529          2  2016-01-19 11:35:24  2016-01-19 12:10:48   \n",
              "3  id3504673          2  2016-04-06 19:32:31  2016-04-06 19:39:40   \n",
              "4  id2181028          2  2016-03-26 13:30:55  2016-03-26 13:38:10   \n",
              "\n",
              "   passenger_count  pickup_longitude  pickup_latitude  dropoff_longitude  \\\n",
              "0                1           -73.982           40.768            -73.965   \n",
              "1                1           -73.980           40.739            -73.999   \n",
              "2                1           -73.979           40.764            -74.005   \n",
              "3                1           -74.010           40.720            -74.012   \n",
              "4                1           -73.973           40.793            -73.973   \n",
              "\n",
              "   dropoff_latitude store_and_fwd_flag  trip_duration  \n",
              "0            40.766                  N            455  \n",
              "1            40.731                  N            663  \n",
              "2            40.710                  N           2124  \n",
              "3            40.707                  N            429  \n",
              "4            40.783                  N            435  "
            ],
            "text/html": [
              "\n",
              "  <div id=\"df-8debb9b4-9600-4239-b8df-6ced4cdfb7e1\">\n",
              "    <div class=\"colab-df-container\">\n",
              "      <div>\n",
              "<style scoped>\n",
              "    .dataframe tbody tr th:only-of-type {\n",
              "        vertical-align: middle;\n",
              "    }\n",
              "\n",
              "    .dataframe tbody tr th {\n",
              "        vertical-align: top;\n",
              "    }\n",
              "\n",
              "    .dataframe thead th {\n",
              "        text-align: right;\n",
              "    }\n",
              "</style>\n",
              "<table border=\"1\" class=\"dataframe\">\n",
              "  <thead>\n",
              "    <tr style=\"text-align: right;\">\n",
              "      <th></th>\n",
              "      <th>id</th>\n",
              "      <th>vendor_id</th>\n",
              "      <th>pickup_datetime</th>\n",
              "      <th>dropoff_datetime</th>\n",
              "      <th>passenger_count</th>\n",
              "      <th>pickup_longitude</th>\n",
              "      <th>pickup_latitude</th>\n",
              "      <th>dropoff_longitude</th>\n",
              "      <th>dropoff_latitude</th>\n",
              "      <th>store_and_fwd_flag</th>\n",
              "      <th>trip_duration</th>\n",
              "    </tr>\n",
              "  </thead>\n",
              "  <tbody>\n",
              "    <tr>\n",
              "      <th>0</th>\n",
              "      <td>id2875421</td>\n",
              "      <td>2</td>\n",
              "      <td>2016-03-14 17:24:55</td>\n",
              "      <td>2016-03-14 17:32:30</td>\n",
              "      <td>1</td>\n",
              "      <td>-73.982</td>\n",
              "      <td>40.768</td>\n",
              "      <td>-73.965</td>\n",
              "      <td>40.766</td>\n",
              "      <td>N</td>\n",
              "      <td>455</td>\n",
              "    </tr>\n",
              "    <tr>\n",
              "      <th>1</th>\n",
              "      <td>id2377394</td>\n",
              "      <td>1</td>\n",
              "      <td>2016-06-12 00:43:35</td>\n",
              "      <td>2016-06-12 00:54:38</td>\n",
              "      <td>1</td>\n",
              "      <td>-73.980</td>\n",
              "      <td>40.739</td>\n",
              "      <td>-73.999</td>\n",
              "      <td>40.731</td>\n",
              "      <td>N</td>\n",
              "      <td>663</td>\n",
              "    </tr>\n",
              "    <tr>\n",
              "      <th>2</th>\n",
              "      <td>id3858529</td>\n",
              "      <td>2</td>\n",
              "      <td>2016-01-19 11:35:24</td>\n",
              "      <td>2016-01-19 12:10:48</td>\n",
              "      <td>1</td>\n",
              "      <td>-73.979</td>\n",
              "      <td>40.764</td>\n",
              "      <td>-74.005</td>\n",
              "      <td>40.710</td>\n",
              "      <td>N</td>\n",
              "      <td>2124</td>\n",
              "    </tr>\n",
              "    <tr>\n",
              "      <th>3</th>\n",
              "      <td>id3504673</td>\n",
              "      <td>2</td>\n",
              "      <td>2016-04-06 19:32:31</td>\n",
              "      <td>2016-04-06 19:39:40</td>\n",
              "      <td>1</td>\n",
              "      <td>-74.010</td>\n",
              "      <td>40.720</td>\n",
              "      <td>-74.012</td>\n",
              "      <td>40.707</td>\n",
              "      <td>N</td>\n",
              "      <td>429</td>\n",
              "    </tr>\n",
              "    <tr>\n",
              "      <th>4</th>\n",
              "      <td>id2181028</td>\n",
              "      <td>2</td>\n",
              "      <td>2016-03-26 13:30:55</td>\n",
              "      <td>2016-03-26 13:38:10</td>\n",
              "      <td>1</td>\n",
              "      <td>-73.973</td>\n",
              "      <td>40.793</td>\n",
              "      <td>-73.973</td>\n",
              "      <td>40.783</td>\n",
              "      <td>N</td>\n",
              "      <td>435</td>\n",
              "    </tr>\n",
              "  </tbody>\n",
              "</table>\n",
              "</div>\n",
              "      <button class=\"colab-df-convert\" onclick=\"convertToInteractive('df-8debb9b4-9600-4239-b8df-6ced4cdfb7e1')\"\n",
              "              title=\"Convert this dataframe to an interactive table.\"\n",
              "              style=\"display:none;\">\n",
              "        \n",
              "  <svg xmlns=\"http://www.w3.org/2000/svg\" height=\"24px\"viewBox=\"0 0 24 24\"\n",
              "       width=\"24px\">\n",
              "    <path d=\"M0 0h24v24H0V0z\" fill=\"none\"/>\n",
              "    <path d=\"M18.56 5.44l.94 2.06.94-2.06 2.06-.94-2.06-.94-.94-2.06-.94 2.06-2.06.94zm-11 1L8.5 8.5l.94-2.06 2.06-.94-2.06-.94L8.5 2.5l-.94 2.06-2.06.94zm10 10l.94 2.06.94-2.06 2.06-.94-2.06-.94-.94-2.06-.94 2.06-2.06.94z\"/><path d=\"M17.41 7.96l-1.37-1.37c-.4-.4-.92-.59-1.43-.59-.52 0-1.04.2-1.43.59L10.3 9.45l-7.72 7.72c-.78.78-.78 2.05 0 2.83L4 21.41c.39.39.9.59 1.41.59.51 0 1.02-.2 1.41-.59l7.78-7.78 2.81-2.81c.8-.78.8-2.07 0-2.86zM5.41 20L4 18.59l7.72-7.72 1.47 1.35L5.41 20z\"/>\n",
              "  </svg>\n",
              "      </button>\n",
              "      \n",
              "  <style>\n",
              "    .colab-df-container {\n",
              "      display:flex;\n",
              "      flex-wrap:wrap;\n",
              "      gap: 12px;\n",
              "    }\n",
              "\n",
              "    .colab-df-convert {\n",
              "      background-color: #E8F0FE;\n",
              "      border: none;\n",
              "      border-radius: 50%;\n",
              "      cursor: pointer;\n",
              "      display: none;\n",
              "      fill: #1967D2;\n",
              "      height: 32px;\n",
              "      padding: 0 0 0 0;\n",
              "      width: 32px;\n",
              "    }\n",
              "\n",
              "    .colab-df-convert:hover {\n",
              "      background-color: #E2EBFA;\n",
              "      box-shadow: 0px 1px 2px rgba(60, 64, 67, 0.3), 0px 1px 3px 1px rgba(60, 64, 67, 0.15);\n",
              "      fill: #174EA6;\n",
              "    }\n",
              "\n",
              "    [theme=dark] .colab-df-convert {\n",
              "      background-color: #3B4455;\n",
              "      fill: #D2E3FC;\n",
              "    }\n",
              "\n",
              "    [theme=dark] .colab-df-convert:hover {\n",
              "      background-color: #434B5C;\n",
              "      box-shadow: 0px 1px 3px 1px rgba(0, 0, 0, 0.15);\n",
              "      filter: drop-shadow(0px 1px 2px rgba(0, 0, 0, 0.3));\n",
              "      fill: #FFFFFF;\n",
              "    }\n",
              "  </style>\n",
              "\n",
              "      <script>\n",
              "        const buttonEl =\n",
              "          document.querySelector('#df-8debb9b4-9600-4239-b8df-6ced4cdfb7e1 button.colab-df-convert');\n",
              "        buttonEl.style.display =\n",
              "          google.colab.kernel.accessAllowed ? 'block' : 'none';\n",
              "\n",
              "        async function convertToInteractive(key) {\n",
              "          const element = document.querySelector('#df-8debb9b4-9600-4239-b8df-6ced4cdfb7e1');\n",
              "          const dataTable =\n",
              "            await google.colab.kernel.invokeFunction('convertToInteractive',\n",
              "                                                     [key], {});\n",
              "          if (!dataTable) return;\n",
              "\n",
              "          const docLinkHtml = 'Like what you see? Visit the ' +\n",
              "            '<a target=\"_blank\" href=https://colab.research.google.com/notebooks/data_table.ipynb>data table notebook</a>'\n",
              "            + ' to learn more about interactive tables.';\n",
              "          element.innerHTML = '';\n",
              "          dataTable['output_type'] = 'display_data';\n",
              "          await google.colab.output.renderOutput(dataTable, element);\n",
              "          const docLink = document.createElement('div');\n",
              "          docLink.innerHTML = docLinkHtml;\n",
              "          element.appendChild(docLink);\n",
              "        }\n",
              "      </script>\n",
              "    </div>\n",
              "  </div>\n",
              "  "
            ]
          },
          "metadata": {},
          "execution_count": 9
        }
      ]
    },
    {
      "cell_type": "code",
      "source": [
        "train.describe()"
      ],
      "metadata": {
        "id": "1FNMU9TALKoc",
        "outputId": "3fdb10a8-f101-4b83-eb84-a99505419255",
        "colab": {
          "base_uri": "https://localhost:8080/",
          "height": 409
        }
      },
      "execution_count": 10,
      "outputs": [
        {
          "output_type": "execute_result",
          "data": {
            "text/plain": [
              "        vendor_id  passenger_count  pickup_longitude  pickup_latitude  \\\n",
              "count 1458644.000      1458644.000       1458644.000      1458644.000   \n",
              "mean        1.535            1.665           -73.973           40.751   \n",
              "std         0.499            1.314             0.071            0.033   \n",
              "min         1.000            0.000          -121.933           34.360   \n",
              "25%         1.000            1.000           -73.992           40.737   \n",
              "50%         2.000            1.000           -73.982           40.754   \n",
              "75%         2.000            2.000           -73.967           40.768   \n",
              "max         2.000            9.000           -61.336           51.881   \n",
              "\n",
              "       dropoff_longitude  dropoff_latitude  trip_duration  \n",
              "count        1458644.000       1458644.000    1458644.000  \n",
              "mean             -73.973            40.752        959.492  \n",
              "std                0.071             0.036       5237.432  \n",
              "min             -121.933            32.181          1.000  \n",
              "25%              -73.991            40.736        397.000  \n",
              "50%              -73.980            40.755        662.000  \n",
              "75%              -73.963            40.770       1075.000  \n",
              "max              -61.336            43.921    3526282.000  "
            ],
            "text/html": [
              "\n",
              "  <div id=\"df-d3bd9b79-2a10-4e61-b984-e34d98a4f112\">\n",
              "    <div class=\"colab-df-container\">\n",
              "      <div>\n",
              "<style scoped>\n",
              "    .dataframe tbody tr th:only-of-type {\n",
              "        vertical-align: middle;\n",
              "    }\n",
              "\n",
              "    .dataframe tbody tr th {\n",
              "        vertical-align: top;\n",
              "    }\n",
              "\n",
              "    .dataframe thead th {\n",
              "        text-align: right;\n",
              "    }\n",
              "</style>\n",
              "<table border=\"1\" class=\"dataframe\">\n",
              "  <thead>\n",
              "    <tr style=\"text-align: right;\">\n",
              "      <th></th>\n",
              "      <th>vendor_id</th>\n",
              "      <th>passenger_count</th>\n",
              "      <th>pickup_longitude</th>\n",
              "      <th>pickup_latitude</th>\n",
              "      <th>dropoff_longitude</th>\n",
              "      <th>dropoff_latitude</th>\n",
              "      <th>trip_duration</th>\n",
              "    </tr>\n",
              "  </thead>\n",
              "  <tbody>\n",
              "    <tr>\n",
              "      <th>count</th>\n",
              "      <td>1458644.000</td>\n",
              "      <td>1458644.000</td>\n",
              "      <td>1458644.000</td>\n",
              "      <td>1458644.000</td>\n",
              "      <td>1458644.000</td>\n",
              "      <td>1458644.000</td>\n",
              "      <td>1458644.000</td>\n",
              "    </tr>\n",
              "    <tr>\n",
              "      <th>mean</th>\n",
              "      <td>1.535</td>\n",
              "      <td>1.665</td>\n",
              "      <td>-73.973</td>\n",
              "      <td>40.751</td>\n",
              "      <td>-73.973</td>\n",
              "      <td>40.752</td>\n",
              "      <td>959.492</td>\n",
              "    </tr>\n",
              "    <tr>\n",
              "      <th>std</th>\n",
              "      <td>0.499</td>\n",
              "      <td>1.314</td>\n",
              "      <td>0.071</td>\n",
              "      <td>0.033</td>\n",
              "      <td>0.071</td>\n",
              "      <td>0.036</td>\n",
              "      <td>5237.432</td>\n",
              "    </tr>\n",
              "    <tr>\n",
              "      <th>min</th>\n",
              "      <td>1.000</td>\n",
              "      <td>0.000</td>\n",
              "      <td>-121.933</td>\n",
              "      <td>34.360</td>\n",
              "      <td>-121.933</td>\n",
              "      <td>32.181</td>\n",
              "      <td>1.000</td>\n",
              "    </tr>\n",
              "    <tr>\n",
              "      <th>25%</th>\n",
              "      <td>1.000</td>\n",
              "      <td>1.000</td>\n",
              "      <td>-73.992</td>\n",
              "      <td>40.737</td>\n",
              "      <td>-73.991</td>\n",
              "      <td>40.736</td>\n",
              "      <td>397.000</td>\n",
              "    </tr>\n",
              "    <tr>\n",
              "      <th>50%</th>\n",
              "      <td>2.000</td>\n",
              "      <td>1.000</td>\n",
              "      <td>-73.982</td>\n",
              "      <td>40.754</td>\n",
              "      <td>-73.980</td>\n",
              "      <td>40.755</td>\n",
              "      <td>662.000</td>\n",
              "    </tr>\n",
              "    <tr>\n",
              "      <th>75%</th>\n",
              "      <td>2.000</td>\n",
              "      <td>2.000</td>\n",
              "      <td>-73.967</td>\n",
              "      <td>40.768</td>\n",
              "      <td>-73.963</td>\n",
              "      <td>40.770</td>\n",
              "      <td>1075.000</td>\n",
              "    </tr>\n",
              "    <tr>\n",
              "      <th>max</th>\n",
              "      <td>2.000</td>\n",
              "      <td>9.000</td>\n",
              "      <td>-61.336</td>\n",
              "      <td>51.881</td>\n",
              "      <td>-61.336</td>\n",
              "      <td>43.921</td>\n",
              "      <td>3526282.000</td>\n",
              "    </tr>\n",
              "  </tbody>\n",
              "</table>\n",
              "</div>\n",
              "      <button class=\"colab-df-convert\" onclick=\"convertToInteractive('df-d3bd9b79-2a10-4e61-b984-e34d98a4f112')\"\n",
              "              title=\"Convert this dataframe to an interactive table.\"\n",
              "              style=\"display:none;\">\n",
              "        \n",
              "  <svg xmlns=\"http://www.w3.org/2000/svg\" height=\"24px\"viewBox=\"0 0 24 24\"\n",
              "       width=\"24px\">\n",
              "    <path d=\"M0 0h24v24H0V0z\" fill=\"none\"/>\n",
              "    <path d=\"M18.56 5.44l.94 2.06.94-2.06 2.06-.94-2.06-.94-.94-2.06-.94 2.06-2.06.94zm-11 1L8.5 8.5l.94-2.06 2.06-.94-2.06-.94L8.5 2.5l-.94 2.06-2.06.94zm10 10l.94 2.06.94-2.06 2.06-.94-2.06-.94-.94-2.06-.94 2.06-2.06.94z\"/><path d=\"M17.41 7.96l-1.37-1.37c-.4-.4-.92-.59-1.43-.59-.52 0-1.04.2-1.43.59L10.3 9.45l-7.72 7.72c-.78.78-.78 2.05 0 2.83L4 21.41c.39.39.9.59 1.41.59.51 0 1.02-.2 1.41-.59l7.78-7.78 2.81-2.81c.8-.78.8-2.07 0-2.86zM5.41 20L4 18.59l7.72-7.72 1.47 1.35L5.41 20z\"/>\n",
              "  </svg>\n",
              "      </button>\n",
              "      \n",
              "  <style>\n",
              "    .colab-df-container {\n",
              "      display:flex;\n",
              "      flex-wrap:wrap;\n",
              "      gap: 12px;\n",
              "    }\n",
              "\n",
              "    .colab-df-convert {\n",
              "      background-color: #E8F0FE;\n",
              "      border: none;\n",
              "      border-radius: 50%;\n",
              "      cursor: pointer;\n",
              "      display: none;\n",
              "      fill: #1967D2;\n",
              "      height: 32px;\n",
              "      padding: 0 0 0 0;\n",
              "      width: 32px;\n",
              "    }\n",
              "\n",
              "    .colab-df-convert:hover {\n",
              "      background-color: #E2EBFA;\n",
              "      box-shadow: 0px 1px 2px rgba(60, 64, 67, 0.3), 0px 1px 3px 1px rgba(60, 64, 67, 0.15);\n",
              "      fill: #174EA6;\n",
              "    }\n",
              "\n",
              "    [theme=dark] .colab-df-convert {\n",
              "      background-color: #3B4455;\n",
              "      fill: #D2E3FC;\n",
              "    }\n",
              "\n",
              "    [theme=dark] .colab-df-convert:hover {\n",
              "      background-color: #434B5C;\n",
              "      box-shadow: 0px 1px 3px 1px rgba(0, 0, 0, 0.15);\n",
              "      filter: drop-shadow(0px 1px 2px rgba(0, 0, 0, 0.3));\n",
              "      fill: #FFFFFF;\n",
              "    }\n",
              "  </style>\n",
              "\n",
              "      <script>\n",
              "        const buttonEl =\n",
              "          document.querySelector('#df-d3bd9b79-2a10-4e61-b984-e34d98a4f112 button.colab-df-convert');\n",
              "        buttonEl.style.display =\n",
              "          google.colab.kernel.accessAllowed ? 'block' : 'none';\n",
              "\n",
              "        async function convertToInteractive(key) {\n",
              "          const element = document.querySelector('#df-d3bd9b79-2a10-4e61-b984-e34d98a4f112');\n",
              "          const dataTable =\n",
              "            await google.colab.kernel.invokeFunction('convertToInteractive',\n",
              "                                                     [key], {});\n",
              "          if (!dataTable) return;\n",
              "\n",
              "          const docLinkHtml = 'Like what you see? Visit the ' +\n",
              "            '<a target=\"_blank\" href=https://colab.research.google.com/notebooks/data_table.ipynb>data table notebook</a>'\n",
              "            + ' to learn more about interactive tables.';\n",
              "          element.innerHTML = '';\n",
              "          dataTable['output_type'] = 'display_data';\n",
              "          await google.colab.output.renderOutput(dataTable, element);\n",
              "          const docLink = document.createElement('div');\n",
              "          docLink.innerHTML = docLinkHtml;\n",
              "          element.appendChild(docLink);\n",
              "        }\n",
              "      </script>\n",
              "    </div>\n",
              "  </div>\n",
              "  "
            ]
          },
          "metadata": {},
          "execution_count": 10
        }
      ]
    },
    {
      "cell_type": "code",
      "source": [
        "train.info()"
      ],
      "metadata": {
        "id": "vTR39xKgLSIf",
        "outputId": "7bfceaf9-8020-4b48-e6c8-b8a6bac3f2d9",
        "colab": {
          "base_uri": "https://localhost:8080/"
        }
      },
      "execution_count": 11,
      "outputs": [
        {
          "output_type": "stream",
          "name": "stdout",
          "text": [
            "<class 'pandas.core.frame.DataFrame'>\n",
            "RangeIndex: 1458644 entries, 0 to 1458643\n",
            "Data columns (total 11 columns):\n",
            " #   Column              Non-Null Count    Dtype  \n",
            "---  ------              --------------    -----  \n",
            " 0   id                  1458644 non-null  object \n",
            " 1   vendor_id           1458644 non-null  int64  \n",
            " 2   pickup_datetime     1458644 non-null  object \n",
            " 3   dropoff_datetime    1458644 non-null  object \n",
            " 4   passenger_count     1458644 non-null  int64  \n",
            " 5   pickup_longitude    1458644 non-null  float64\n",
            " 6   pickup_latitude     1458644 non-null  float64\n",
            " 7   dropoff_longitude   1458644 non-null  float64\n",
            " 8   dropoff_latitude    1458644 non-null  float64\n",
            " 9   store_and_fwd_flag  1458644 non-null  object \n",
            " 10  trip_duration       1458644 non-null  int64  \n",
            "dtypes: float64(4), int64(3), object(4)\n",
            "memory usage: 122.4+ MB\n"
          ]
        }
      ]
    },
    {
      "cell_type": "code",
      "source": [
        "# Cut the outliers using 2 times standard deviation\n",
        "m = np.mean(train['trip_duration'])\n",
        "s = np.std(train['trip_duration'])\n",
        "train = train[train['trip_duration'] <= m + 2*s]\n",
        "train = train[train['trip_duration'] >= m - 2*s]"
      ],
      "metadata": {
        "id": "851CY-AELovS"
      },
      "execution_count": 12,
      "outputs": []
    },
    {
      "cell_type": "code",
      "source": [
        "# Cut the data to data that ONLY lies within NYC border\n",
        "# New York city_long_border = (-74.03, -73.75)\n",
        "# New York city_lat_border = (40.63, 40.85) \n",
        "train = train[train['pickup_longitude'] <= -73.75]\n",
        "train = train[train['pickup_longitude'] >= -74.03]\n",
        "train = train[train['pickup_latitude'] <= 40.85]\n",
        "train = train[train['pickup_latitude'] >= 40.63]\n",
        "train = train[train['dropoff_longitude'] <= -73.75]\n",
        "train = train[train['dropoff_longitude'] >= -74.03]\n",
        "train = train[train['dropoff_latitude'] <= 40.85]\n",
        "train = train[train['dropoff_latitude'] >= 40.63]"
      ],
      "metadata": {
        "id": "3WtEBqDINFPf"
      },
      "execution_count": 13,
      "outputs": []
    },
    {
      "cell_type": "code",
      "source": [
        "# Reformat the data\n",
        "train['pickup_datetime'] = pd.to_datetime(train.pickup_datetime)\n",
        "test['pickup_datetime'] = pd.to_datetime(test.pickup_datetime)\n",
        "train.loc[:, 'pickup_date'] = train['pickup_datetime'].dt.date\n",
        "test.loc[:, 'pickup_date'] = test['pickup_datetime'].dt.date\n",
        "train['dropoff_datetime'] = pd.to_datetime(train.dropoff_datetime) #Not in Test"
      ],
      "metadata": {
        "id": "AU1JDEqrybB_"
      },
      "execution_count": 14,
      "outputs": []
    },
    {
      "cell_type": "code",
      "source": [
        "train.head()"
      ],
      "metadata": {
        "id": "an6fpaZxy-hT",
        "outputId": "5a2e3163-0595-4187-dde1-b890df7a4f6c",
        "colab": {
          "base_uri": "https://localhost:8080/",
          "height": 411
        }
      },
      "execution_count": 15,
      "outputs": [
        {
          "output_type": "execute_result",
          "data": {
            "text/plain": [
              "          id  vendor_id     pickup_datetime    dropoff_datetime  \\\n",
              "0  id2875421          2 2016-03-14 17:24:55 2016-03-14 17:32:30   \n",
              "1  id2377394          1 2016-06-12 00:43:35 2016-06-12 00:54:38   \n",
              "2  id3858529          2 2016-01-19 11:35:24 2016-01-19 12:10:48   \n",
              "3  id3504673          2 2016-04-06 19:32:31 2016-04-06 19:39:40   \n",
              "4  id2181028          2 2016-03-26 13:30:55 2016-03-26 13:38:10   \n",
              "\n",
              "   passenger_count  pickup_longitude  pickup_latitude  dropoff_longitude  \\\n",
              "0                1           -73.982           40.768            -73.965   \n",
              "1                1           -73.980           40.739            -73.999   \n",
              "2                1           -73.979           40.764            -74.005   \n",
              "3                1           -74.010           40.720            -74.012   \n",
              "4                1           -73.973           40.793            -73.973   \n",
              "\n",
              "   dropoff_latitude store_and_fwd_flag  trip_duration pickup_date  \n",
              "0            40.766                  N            455  2016-03-14  \n",
              "1            40.731                  N            663  2016-06-12  \n",
              "2            40.710                  N           2124  2016-01-19  \n",
              "3            40.707                  N            429  2016-04-06  \n",
              "4            40.783                  N            435  2016-03-26  "
            ],
            "text/html": [
              "\n",
              "  <div id=\"df-aabe068e-096d-4cb2-b14f-c547c1419236\">\n",
              "    <div class=\"colab-df-container\">\n",
              "      <div>\n",
              "<style scoped>\n",
              "    .dataframe tbody tr th:only-of-type {\n",
              "        vertical-align: middle;\n",
              "    }\n",
              "\n",
              "    .dataframe tbody tr th {\n",
              "        vertical-align: top;\n",
              "    }\n",
              "\n",
              "    .dataframe thead th {\n",
              "        text-align: right;\n",
              "    }\n",
              "</style>\n",
              "<table border=\"1\" class=\"dataframe\">\n",
              "  <thead>\n",
              "    <tr style=\"text-align: right;\">\n",
              "      <th></th>\n",
              "      <th>id</th>\n",
              "      <th>vendor_id</th>\n",
              "      <th>pickup_datetime</th>\n",
              "      <th>dropoff_datetime</th>\n",
              "      <th>passenger_count</th>\n",
              "      <th>pickup_longitude</th>\n",
              "      <th>pickup_latitude</th>\n",
              "      <th>dropoff_longitude</th>\n",
              "      <th>dropoff_latitude</th>\n",
              "      <th>store_and_fwd_flag</th>\n",
              "      <th>trip_duration</th>\n",
              "      <th>pickup_date</th>\n",
              "    </tr>\n",
              "  </thead>\n",
              "  <tbody>\n",
              "    <tr>\n",
              "      <th>0</th>\n",
              "      <td>id2875421</td>\n",
              "      <td>2</td>\n",
              "      <td>2016-03-14 17:24:55</td>\n",
              "      <td>2016-03-14 17:32:30</td>\n",
              "      <td>1</td>\n",
              "      <td>-73.982</td>\n",
              "      <td>40.768</td>\n",
              "      <td>-73.965</td>\n",
              "      <td>40.766</td>\n",
              "      <td>N</td>\n",
              "      <td>455</td>\n",
              "      <td>2016-03-14</td>\n",
              "    </tr>\n",
              "    <tr>\n",
              "      <th>1</th>\n",
              "      <td>id2377394</td>\n",
              "      <td>1</td>\n",
              "      <td>2016-06-12 00:43:35</td>\n",
              "      <td>2016-06-12 00:54:38</td>\n",
              "      <td>1</td>\n",
              "      <td>-73.980</td>\n",
              "      <td>40.739</td>\n",
              "      <td>-73.999</td>\n",
              "      <td>40.731</td>\n",
              "      <td>N</td>\n",
              "      <td>663</td>\n",
              "      <td>2016-06-12</td>\n",
              "    </tr>\n",
              "    <tr>\n",
              "      <th>2</th>\n",
              "      <td>id3858529</td>\n",
              "      <td>2</td>\n",
              "      <td>2016-01-19 11:35:24</td>\n",
              "      <td>2016-01-19 12:10:48</td>\n",
              "      <td>1</td>\n",
              "      <td>-73.979</td>\n",
              "      <td>40.764</td>\n",
              "      <td>-74.005</td>\n",
              "      <td>40.710</td>\n",
              "      <td>N</td>\n",
              "      <td>2124</td>\n",
              "      <td>2016-01-19</td>\n",
              "    </tr>\n",
              "    <tr>\n",
              "      <th>3</th>\n",
              "      <td>id3504673</td>\n",
              "      <td>2</td>\n",
              "      <td>2016-04-06 19:32:31</td>\n",
              "      <td>2016-04-06 19:39:40</td>\n",
              "      <td>1</td>\n",
              "      <td>-74.010</td>\n",
              "      <td>40.720</td>\n",
              "      <td>-74.012</td>\n",
              "      <td>40.707</td>\n",
              "      <td>N</td>\n",
              "      <td>429</td>\n",
              "      <td>2016-04-06</td>\n",
              "    </tr>\n",
              "    <tr>\n",
              "      <th>4</th>\n",
              "      <td>id2181028</td>\n",
              "      <td>2</td>\n",
              "      <td>2016-03-26 13:30:55</td>\n",
              "      <td>2016-03-26 13:38:10</td>\n",
              "      <td>1</td>\n",
              "      <td>-73.973</td>\n",
              "      <td>40.793</td>\n",
              "      <td>-73.973</td>\n",
              "      <td>40.783</td>\n",
              "      <td>N</td>\n",
              "      <td>435</td>\n",
              "      <td>2016-03-26</td>\n",
              "    </tr>\n",
              "  </tbody>\n",
              "</table>\n",
              "</div>\n",
              "      <button class=\"colab-df-convert\" onclick=\"convertToInteractive('df-aabe068e-096d-4cb2-b14f-c547c1419236')\"\n",
              "              title=\"Convert this dataframe to an interactive table.\"\n",
              "              style=\"display:none;\">\n",
              "        \n",
              "  <svg xmlns=\"http://www.w3.org/2000/svg\" height=\"24px\"viewBox=\"0 0 24 24\"\n",
              "       width=\"24px\">\n",
              "    <path d=\"M0 0h24v24H0V0z\" fill=\"none\"/>\n",
              "    <path d=\"M18.56 5.44l.94 2.06.94-2.06 2.06-.94-2.06-.94-.94-2.06-.94 2.06-2.06.94zm-11 1L8.5 8.5l.94-2.06 2.06-.94-2.06-.94L8.5 2.5l-.94 2.06-2.06.94zm10 10l.94 2.06.94-2.06 2.06-.94-2.06-.94-.94-2.06-.94 2.06-2.06.94z\"/><path d=\"M17.41 7.96l-1.37-1.37c-.4-.4-.92-.59-1.43-.59-.52 0-1.04.2-1.43.59L10.3 9.45l-7.72 7.72c-.78.78-.78 2.05 0 2.83L4 21.41c.39.39.9.59 1.41.59.51 0 1.02-.2 1.41-.59l7.78-7.78 2.81-2.81c.8-.78.8-2.07 0-2.86zM5.41 20L4 18.59l7.72-7.72 1.47 1.35L5.41 20z\"/>\n",
              "  </svg>\n",
              "      </button>\n",
              "      \n",
              "  <style>\n",
              "    .colab-df-container {\n",
              "      display:flex;\n",
              "      flex-wrap:wrap;\n",
              "      gap: 12px;\n",
              "    }\n",
              "\n",
              "    .colab-df-convert {\n",
              "      background-color: #E8F0FE;\n",
              "      border: none;\n",
              "      border-radius: 50%;\n",
              "      cursor: pointer;\n",
              "      display: none;\n",
              "      fill: #1967D2;\n",
              "      height: 32px;\n",
              "      padding: 0 0 0 0;\n",
              "      width: 32px;\n",
              "    }\n",
              "\n",
              "    .colab-df-convert:hover {\n",
              "      background-color: #E2EBFA;\n",
              "      box-shadow: 0px 1px 2px rgba(60, 64, 67, 0.3), 0px 1px 3px 1px rgba(60, 64, 67, 0.15);\n",
              "      fill: #174EA6;\n",
              "    }\n",
              "\n",
              "    [theme=dark] .colab-df-convert {\n",
              "      background-color: #3B4455;\n",
              "      fill: #D2E3FC;\n",
              "    }\n",
              "\n",
              "    [theme=dark] .colab-df-convert:hover {\n",
              "      background-color: #434B5C;\n",
              "      box-shadow: 0px 1px 3px 1px rgba(0, 0, 0, 0.15);\n",
              "      filter: drop-shadow(0px 1px 2px rgba(0, 0, 0, 0.3));\n",
              "      fill: #FFFFFF;\n",
              "    }\n",
              "  </style>\n",
              "\n",
              "      <script>\n",
              "        const buttonEl =\n",
              "          document.querySelector('#df-aabe068e-096d-4cb2-b14f-c547c1419236 button.colab-df-convert');\n",
              "        buttonEl.style.display =\n",
              "          google.colab.kernel.accessAllowed ? 'block' : 'none';\n",
              "\n",
              "        async function convertToInteractive(key) {\n",
              "          const element = document.querySelector('#df-aabe068e-096d-4cb2-b14f-c547c1419236');\n",
              "          const dataTable =\n",
              "            await google.colab.kernel.invokeFunction('convertToInteractive',\n",
              "                                                     [key], {});\n",
              "          if (!dataTable) return;\n",
              "\n",
              "          const docLinkHtml = 'Like what you see? Visit the ' +\n",
              "            '<a target=\"_blank\" href=https://colab.research.google.com/notebooks/data_table.ipynb>data table notebook</a>'\n",
              "            + ' to learn more about interactive tables.';\n",
              "          element.innerHTML = '';\n",
              "          dataTable['output_type'] = 'display_data';\n",
              "          await google.colab.output.renderOutput(dataTable, element);\n",
              "          const docLink = document.createElement('div');\n",
              "          docLink.innerHTML = docLinkHtml;\n",
              "          element.appendChild(docLink);\n",
              "        }\n",
              "      </script>\n",
              "    </div>\n",
              "  </div>\n",
              "  "
            ]
          },
          "metadata": {},
          "execution_count": 15
        }
      ]
    },
    {
      "cell_type": "code",
      "source": [
        "plt.hist(train['trip_duration'].values, bins=100)\n",
        "plt.xlabel('trip_duration')\n",
        "plt.ylabel('number of train records')\n",
        "plt.show()"
      ],
      "metadata": {
        "id": "j9sC6-nDzMty",
        "outputId": "8a379682-9234-4ec0-914b-0feb4f106d8e",
        "colab": {
          "base_uri": "https://localhost:8080/",
          "height": 280
        }
      },
      "execution_count": 16,
      "outputs": [
        {
          "output_type": "display_data",
          "data": {
            "text/plain": [
              "<Figure size 432x288 with 1 Axes>"
            ],
            "image/png": "[encoded data removed]"
          },
          "metadata": {
            "needs_background": "light"
          }
        }
      ]
    },
    {
      "cell_type": "code",
      "source": [
        "train['log_trip_duration'] = np.log(train['trip_duration'].values + 1)\n",
        "plt.hist(train['log_trip_duration'].values, bins=100)\n",
        "plt.xlabel('log(trip_duration)')\n",
        "plt.ylabel('number of train records')\n",
        "plt.show()\n",
        "sns.distplot(train[\"log_trip_duration\"], bins =100)"
      ],
      "metadata": {
        "id": "CQ-dP_ZCIcF2",
        "outputId": "399b0e6e-95b4-4515-c892-05e64756fd4d",
        "colab": {
          "base_uri": "https://localhost:8080/",
          "height": 634
        }
      },
      "execution_count": 17,
      "outputs": [
        {
          "output_type": "display_data",
          "data": {
            "text/plain": [
              "<Figure size 432x288 with 1 Axes>"
            ],
            "image/png": "[encoded data removed]"
          },
          "metadata": {
            "needs_background": "light"
          }
        },
        {
          "output_type": "stream",
          "name": "stderr",
          "text": [
            "/usr/local/lib/python3.7/dist-packages/seaborn/distributions.py:2619: FutureWarning: `distplot` is a deprecated function and will be removed in a future version. Please adapt your code to use either `displot` (a figure-level function with similar flexibility) or `histplot` (an axes-level function for histograms).\n",
            "  warnings.warn(msg, FutureWarning)\n"
          ]
        },
        {
          "output_type": "execute_result",
          "data": {
            "text/plain": [
              "<matplotlib.axes._subplots.AxesSubplot at 0x7f97e1927a90>"
            ]
          },
          "metadata": {},
          "execution_count": 17
        },
        {
          "output_type": "display_data",
          "data": {
            "text/plain": [
              "<Figure size 432x288 with 1 Axes>"
            ],
            "image/png": "[encoded data removed]"
          },
          "metadata": {
            "needs_background": "light"
          }
        }
      ]
    },
    {
      "cell_type": "code",
      "source": [
        "# Check if the test data is sampled from the training data\n",
        "plt.plot(train.groupby('pickup_date').count()[['id']], 'o-', label='train')\n",
        "plt.plot(test.groupby('pickup_date').count()[['id']], 'o-', label='test')\n",
        "plt.title('Trips over Time.')\n",
        "plt.legend(loc=0)\n",
        "plt.ylabel('Trips')\n",
        "plt.show()"
      ],
      "metadata": {
        "id": "FeB9mWToIrhl",
        "outputId": "2f7d7ac5-3066-480a-a02a-7d00b5509f6f",
        "colab": {
          "base_uri": "https://localhost:8080/",
          "height": 281
        }
      },
      "execution_count": 18,
      "outputs": [
        {
          "output_type": "display_data",
          "data": {
            "text/plain": [
              "<Figure size 432x288 with 1 Axes>"
            ],
            "image/png": "[encoded data removed]"
          },
          "metadata": {
            "needs_background": "light"
          }
        }
      ]
    },
    {
      "cell_type": "code",
      "source": [
        "# Let's see whether different vendors make any difference\n",
        "\n",
        "# ignore system warnings\n",
        "import warnings\n",
        "warnings.filterwarnings(\"ignore\")\n",
        "\n",
        "plot_vendor = train.groupby('vendor_id')['trip_duration'].mean()\n",
        "plt.subplots(1,1,figsize=(17,10))\n",
        "plt.ylim(ymin=800)\n",
        "plt.ylim(ymax=840)\n",
        "sns.barplot(plot_vendor.index,plot_vendor.values)\n",
        "plt.title('Time per Vendor')\n",
        "plt.legend(loc=0)\n",
        "plt.ylabel('Time in Seconds')"
      ],
      "metadata": {
        "id": "B5tCwSxJKsWa",
        "outputId": "96ee8236-f78b-46b0-8d82-14ae34b17cc0",
        "colab": {
          "base_uri": "https://localhost:8080/",
          "height": 669
        }
      },
      "execution_count": 19,
      "outputs": [
        {
          "output_type": "stream",
          "name": "stderr",
          "text": [
            "No handles with labels found to put in legend.\n"
          ]
        },
        {
          "output_type": "execute_result",
          "data": {
            "text/plain": [
              "Text(0, 0.5, 'Time in Seconds')"
            ]
          },
          "metadata": {},
          "execution_count": 19
        },
        {
          "output_type": "display_data",
          "data": {
            "text/plain": [
              "<Figure size 1224x720 with 1 Axes>"
            ],
            "image/png": "[encoded data removed]"
          },
          "metadata": {
            "needs_background": "light"
          }
        }
      ]
    },
    {
      "cell_type": "code",
      "source": [
        "# Let's see whether the store and forward flag\n",
        "# contribute to the difference of travel time.\n",
        "# Store and forward, in this case, is the\n",
        "# action of dropping many passanger in a \n",
        "# single car to multiple different areas\n",
        "# leading to many stops\n",
        "\n",
        "snwflag = train.groupby('store_and_fwd_flag')['trip_duration'].mean()\n",
        "\n",
        "plt.subplots(1,1,figsize=(17,10))\n",
        "plt.ylim(ymin=0)\n",
        "plt.ylim(ymax=1100)\n",
        "plt.title('Time per store_and_fwd_flag')\n",
        "plt.legend(loc=0)\n",
        "plt.ylabel('Time in Seconds')\n",
        "sns.barplot(snwflag.index,snwflag.values)"
      ],
      "metadata": {
        "id": "cLyE5qGTL1YV",
        "outputId": "78e041a6-51f7-4d75-a54b-a18cbbf98676",
        "colab": {
          "base_uri": "https://localhost:8080/",
          "height": 669
        }
      },
      "execution_count": 20,
      "outputs": [
        {
          "output_type": "stream",
          "name": "stderr",
          "text": [
            "No handles with labels found to put in legend.\n"
          ]
        },
        {
          "output_type": "execute_result",
          "data": {
            "text/plain": [
              "<matplotlib.axes._subplots.AxesSubplot at 0x7f97df7326d0>"
            ]
          },
          "metadata": {},
          "execution_count": 20
        },
        {
          "output_type": "display_data",
          "data": {
            "text/plain": [
              "<Figure size 1224x720 with 1 Axes>"
            ],
            "image/png": "[encoded data removed]"
          },
          "metadata": {
            "needs_background": "light"
          }
        }
      ]
    },
    {
      "cell_type": "code",
      "source": [
        "# Let's get another insight by grouping the data\n",
        "# by passenger count\n",
        "pc = train.groupby('passenger_count')['trip_duration'].mean()\n",
        "\n",
        "plt.subplots(1,1,figsize=(17,10))\n",
        "plt.ylim(ymin=0)\n",
        "plt.ylim(ymax=1100)\n",
        "plt.title('Time per store_and_fwd_flag')\n",
        "plt.legend(loc=0)\n",
        "plt.ylabel('Time in Seconds')\n",
        "sns.barplot(pc.index,pc.values)"
      ],
      "metadata": {
        "id": "fS9ajuy6MRI_",
        "outputId": "c2d67f6b-ce7d-442a-d72d-c438f19c360f",
        "colab": {
          "base_uri": "https://localhost:8080/",
          "height": 669
        }
      },
      "execution_count": 21,
      "outputs": [
        {
          "output_type": "stream",
          "name": "stderr",
          "text": [
            "No handles with labels found to put in legend.\n"
          ]
        },
        {
          "output_type": "execute_result",
          "data": {
            "text/plain": [
              "<matplotlib.axes._subplots.AxesSubplot at 0x7f97e1a3f950>"
            ]
          },
          "metadata": {},
          "execution_count": 21
        },
        {
          "output_type": "display_data",
          "data": {
            "text/plain": [
              "<Figure size 1224x720 with 1 Axes>"
            ],
            "image/png": "[encoded data removed]"
          },
          "metadata": {
            "needs_background": "light"
          }
        }
      ]
    },
    {
      "cell_type": "code",
      "source": [
        "zeroPassenger = train.query('passenger_count == 0')\n",
        "print(zeroPassenger.size,\" has zero passenger\")\n",
        "zeroPassenger.head()"
      ],
      "metadata": {
        "id": "p0nGGOCoMwQk",
        "outputId": "3ea88307-f363-41c8-b3b8-8baa23230fc9",
        "colab": {
          "base_uri": "https://localhost:8080/",
          "height": 435
        }
      },
      "execution_count": 22,
      "outputs": [
        {
          "output_type": "stream",
          "name": "stdout",
          "text": [
            "676  has zero passenger\n"
          ]
        },
        {
          "output_type": "execute_result",
          "data": {
            "text/plain": [
              "               id  vendor_id     pickup_datetime    dropoff_datetime  \\\n",
              "136519  id3645383          2 2016-01-01 05:01:32 2016-01-01 05:01:36   \n",
              "194288  id2840829          2 2016-02-21 01:33:52 2016-02-21 01:36:27   \n",
              "217765  id3762593          1 2016-01-04 12:24:17 2016-01-04 13:01:48   \n",
              "263809  id2154895          1 2016-05-23 23:37:37 2016-05-23 23:37:45   \n",
              "278290  id0796773          1 2016-02-07 17:23:48 2016-02-07 17:23:57   \n",
              "\n",
              "        passenger_count  pickup_longitude  pickup_latitude  dropoff_longitude  \\\n",
              "136519                0           -73.993           40.757            -73.993   \n",
              "194288                0           -73.946           40.773            -73.947   \n",
              "217765                0           -73.815           40.700            -73.951   \n",
              "263809                0           -73.862           40.705            -73.862   \n",
              "278290                0           -73.955           40.688            -73.955   \n",
              "\n",
              "        dropoff_latitude store_and_fwd_flag  trip_duration pickup_date  \\\n",
              "136519            40.758                  N              4  2016-01-01   \n",
              "194288            40.775                  N            155  2016-02-21   \n",
              "217765            40.755                  N           2251  2016-01-04   \n",
              "263809            40.705                  N              8  2016-05-23   \n",
              "278290            40.688                  N              9  2016-02-07   \n",
              "\n",
              "        log_trip_duration  \n",
              "136519              1.609  \n",
              "194288              5.050  \n",
              "217765              7.720  \n",
              "263809              2.197  \n",
              "278290              2.303  "
            ],
            "text/html": [
              "\n",
              "  <div id=\"df-0722072a-b5c8-4309-aef5-5e2be0ba51fe\">\n",
              "    <div class=\"colab-df-container\">\n",
              "      <div>\n",
              "<style scoped>\n",
              "    .dataframe tbody tr th:only-of-type {\n",
              "        vertical-align: middle;\n",
              "    }\n",
              "\n",
              "    .dataframe tbody tr th {\n",
              "        vertical-align: top;\n",
              "    }\n",
              "\n",
              "    .dataframe thead th {\n",
              "        text-align: right;\n",
              "    }\n",
              "</style>\n",
              "<table border=\"1\" class=\"dataframe\">\n",
              "  <thead>\n",
              "    <tr style=\"text-align: right;\">\n",
              "      <th></th>\n",
              "      <th>id</th>\n",
              "      <th>vendor_id</th>\n",
              "      <th>pickup_datetime</th>\n",
              "      <th>dropoff_datetime</th>\n",
              "      <th>passenger_count</th>\n",
              "      <th>pickup_longitude</th>\n",
              "      <th>pickup_latitude</th>\n",
              "      <th>dropoff_longitude</th>\n",
              "      <th>dropoff_latitude</th>\n",
              "      <th>store_and_fwd_flag</th>\n",
              "      <th>trip_duration</th>\n",
              "      <th>pickup_date</th>\n",
              "      <th>log_trip_duration</th>\n",
              "    </tr>\n",
              "  </thead>\n",
              "  <tbody>\n",
              "    <tr>\n",
              "      <th>136519</th>\n",
              "      <td>id3645383</td>\n",
              "      <td>2</td>\n",
              "      <td>2016-01-01 05:01:32</td>\n",
              "      <td>2016-01-01 05:01:36</td>\n",
              "      <td>0</td>\n",
              "      <td>-73.993</td>\n",
              "      <td>40.757</td>\n",
              "      <td>-73.993</td>\n",
              "      <td>40.758</td>\n",
              "      <td>N</td>\n",
              "      <td>4</td>\n",
              "      <td>2016-01-01</td>\n",
              "      <td>1.609</td>\n",
              "    </tr>\n",
              "    <tr>\n",
              "      <th>194288</th>\n",
              "      <td>id2840829</td>\n",
              "      <td>2</td>\n",
              "      <td>2016-02-21 01:33:52</td>\n",
              "      <td>2016-02-21 01:36:27</td>\n",
              "      <td>0</td>\n",
              "      <td>-73.946</td>\n",
              "      <td>40.773</td>\n",
              "      <td>-73.947</td>\n",
              "      <td>40.775</td>\n",
              "      <td>N</td>\n",
              "      <td>155</td>\n",
              "      <td>2016-02-21</td>\n",
              "      <td>5.050</td>\n",
              "    </tr>\n",
              "    <tr>\n",
              "      <th>217765</th>\n",
              "      <td>id3762593</td>\n",
              "      <td>1</td>\n",
              "      <td>2016-01-04 12:24:17</td>\n",
              "      <td>2016-01-04 13:01:48</td>\n",
              "      <td>0</td>\n",
              "      <td>-73.815</td>\n",
              "      <td>40.700</td>\n",
              "      <td>-73.951</td>\n",
              "      <td>40.755</td>\n",
              "      <td>N</td>\n",
              "      <td>2251</td>\n",
              "      <td>2016-01-04</td>\n",
              "      <td>7.720</td>\n",
              "    </tr>\n",
              "    <tr>\n",
              "      <th>263809</th>\n",
              "      <td>id2154895</td>\n",
              "      <td>1</td>\n",
              "      <td>2016-05-23 23:37:37</td>\n",
              "      <td>2016-05-23 23:37:45</td>\n",
              "      <td>0</td>\n",
              "      <td>-73.862</td>\n",
              "      <td>40.705</td>\n",
              "      <td>-73.862</td>\n",
              "      <td>40.705</td>\n",
              "      <td>N</td>\n",
              "      <td>8</td>\n",
              "      <td>2016-05-23</td>\n",
              "      <td>2.197</td>\n",
              "    </tr>\n",
              "    <tr>\n",
              "      <th>278290</th>\n",
              "      <td>id0796773</td>\n",
              "      <td>1</td>\n",
              "      <td>2016-02-07 17:23:48</td>\n",
              "      <td>2016-02-07 17:23:57</td>\n",
              "      <td>0</td>\n",
              "      <td>-73.955</td>\n",
              "      <td>40.688</td>\n",
              "      <td>-73.955</td>\n",
              "      <td>40.688</td>\n",
              "      <td>N</td>\n",
              "      <td>9</td>\n",
              "      <td>2016-02-07</td>\n",
              "      <td>2.303</td>\n",
              "    </tr>\n",
              "  </tbody>\n",
              "</table>\n",
              "</div>\n",
              "      <button class=\"colab-df-convert\" onclick=\"convertToInteractive('df-0722072a-b5c8-4309-aef5-5e2be0ba51fe')\"\n",
              "              title=\"Convert this dataframe to an interactive table.\"\n",
              "              style=\"display:none;\">\n",
              "        \n",
              "  <svg xmlns=\"http://www.w3.org/2000/svg\" height=\"24px\"viewBox=\"0 0 24 24\"\n",
              "       width=\"24px\">\n",
              "    <path d=\"M0 0h24v24H0V0z\" fill=\"none\"/>\n",
              "    <path d=\"M18.56 5.44l.94 2.06.94-2.06 2.06-.94-2.06-.94-.94-2.06-.94 2.06-2.06.94zm-11 1L8.5 8.5l.94-2.06 2.06-.94-2.06-.94L8.5 2.5l-.94 2.06-2.06.94zm10 10l.94 2.06.94-2.06 2.06-.94-2.06-.94-.94-2.06-.94 2.06-2.06.94z\"/><path d=\"M17.41 7.96l-1.37-1.37c-.4-.4-.92-.59-1.43-.59-.52 0-1.04.2-1.43.59L10.3 9.45l-7.72 7.72c-.78.78-.78 2.05 0 2.83L4 21.41c.39.39.9.59 1.41.59.51 0 1.02-.2 1.41-.59l7.78-7.78 2.81-2.81c.8-.78.8-2.07 0-2.86zM5.41 20L4 18.59l7.72-7.72 1.47 1.35L5.41 20z\"/>\n",
              "  </svg>\n",
              "      </button>\n",
              "      \n",
              "  <style>\n",
              "    .colab-df-container {\n",
              "      display:flex;\n",
              "      flex-wrap:wrap;\n",
              "      gap: 12px;\n",
              "    }\n",
              "\n",
              "    .colab-df-convert {\n",
              "      background-color: #E8F0FE;\n",
              "      border: none;\n",
              "      border-radius: 50%;\n",
              "      cursor: pointer;\n",
              "      display: none;\n",
              "      fill: #1967D2;\n",
              "      height: 32px;\n",
              "      padding: 0 0 0 0;\n",
              "      width: 32px;\n",
              "    }\n",
              "\n",
              "    .colab-df-convert:hover {\n",
              "      background-color: #E2EBFA;\n",
              "      box-shadow: 0px 1px 2px rgba(60, 64, 67, 0.3), 0px 1px 3px 1px rgba(60, 64, 67, 0.15);\n",
              "      fill: #174EA6;\n",
              "    }\n",
              "\n",
              "    [theme=dark] .colab-df-convert {\n",
              "      background-color: #3B4455;\n",
              "      fill: #D2E3FC;\n",
              "    }\n",
              "\n",
              "    [theme=dark] .colab-df-convert:hover {\n",
              "      background-color: #434B5C;\n",
              "      box-shadow: 0px 1px 3px 1px rgba(0, 0, 0, 0.15);\n",
              "      filter: drop-shadow(0px 1px 2px rgba(0, 0, 0, 0.3));\n",
              "      fill: #FFFFFF;\n",
              "    }\n",
              "  </style>\n",
              "\n",
              "      <script>\n",
              "        const buttonEl =\n",
              "          document.querySelector('#df-0722072a-b5c8-4309-aef5-5e2be0ba51fe button.colab-df-convert');\n",
              "        buttonEl.style.display =\n",
              "          google.colab.kernel.accessAllowed ? 'block' : 'none';\n",
              "\n",
              "        async function convertToInteractive(key) {\n",
              "          const element = document.querySelector('#df-0722072a-b5c8-4309-aef5-5e2be0ba51fe');\n",
              "          const dataTable =\n",
              "            await google.colab.kernel.invokeFunction('convertToInteractive',\n",
              "                                                     [key], {});\n",
              "          if (!dataTable) return;\n",
              "\n",
              "          const docLinkHtml = 'Like what you see? Visit the ' +\n",
              "            '<a target=\"_blank\" href=https://colab.research.google.com/notebooks/data_table.ipynb>data table notebook</a>'\n",
              "            + ' to learn more about interactive tables.';\n",
              "          element.innerHTML = '';\n",
              "          dataTable['output_type'] = 'display_data';\n",
              "          await google.colab.output.renderOutput(dataTable, element);\n",
              "          const docLink = document.createElement('div');\n",
              "          docLink.innerHTML = docLinkHtml;\n",
              "          element.appendChild(docLink);\n",
              "        }\n",
              "      </script>\n",
              "    </div>\n",
              "  </div>\n",
              "  "
            ]
          },
          "metadata": {},
          "execution_count": 22
        }
      ]
    },
    {
      "cell_type": "code",
      "source": [
        "plt.plot(zeroPassenger['trip_duration'], 'o-', label='test')\n",
        "plt.title('Zero Pessanger')\n",
        "plt.ylabel('Trip duration')\n",
        "plt.xlabel('Trip')\n",
        "plt.show()"
      ],
      "metadata": {
        "id": "NzCakCICQjaE",
        "outputId": "bae2b30b-5500-455a-d16c-7600ef1d4275",
        "colab": {
          "base_uri": "https://localhost:8080/",
          "height": 295
        }
      },
      "execution_count": 23,
      "outputs": [
        {
          "output_type": "display_data",
          "data": {
            "text/plain": [
              "<Figure size 432x288 with 1 Axes>"
            ],
            "image/png": "[encoded data removed]"
          },
          "metadata": {
            "needs_background": "light"
          }
        }
      ]
    },
    {
      "cell_type": "code",
      "source": [
        "# Plot the train and test data to make sure\n",
        "# that they come from the same set of data\n",
        "city_long_border = (-74.03, -73.75)\n",
        "city_lat_border = (40.63, 40.85)\n",
        "fig, ax = plt.subplots(ncols=2, sharex=True, sharey=True)\n",
        "ax[0].scatter(train['pickup_longitude'].values[:100000], train['pickup_latitude'].values[:100000],\n",
        "              color='blue', s=1, label='train', alpha=0.1)\n",
        "ax[1].scatter(test['pickup_longitude'].values[:100000], test['pickup_latitude'].values[:100000],\n",
        "              color='green', s=1, label='test', alpha=0.1)\n",
        "fig.suptitle('Train and test area complete overlap.')\n",
        "ax[0].legend(loc=0)\n",
        "ax[0].set_ylabel('latitude')\n",
        "ax[0].set_xlabel('longitude')\n",
        "ax[1].set_xlabel('longitude')\n",
        "ax[1].legend(loc=0)\n",
        "plt.ylim(city_lat_border)\n",
        "plt.xlim(city_long_border)\n",
        "plt.show()"
      ],
      "metadata": {
        "id": "RjHrIP5bRwll",
        "outputId": "3d36a22e-6a5c-47f7-d796-9e24aa0ea705",
        "colab": {
          "base_uri": "https://localhost:8080/",
          "height": 308
        }
      },
      "execution_count": 24,
      "outputs": [
        {
          "output_type": "display_data",
          "data": {
            "text/plain": [
              "<Figure size 432x288 with 2 Axes>"
            ],
            "image/png": "[encoded data removed]"
          },
          "metadata": {
            "needs_background": "light"
          }
        }
      ]
    },
    {
      "cell_type": "code",
      "source": [
        "def haversine_array(lat1, lng1, lat2, lng2):\n",
        "    lat1, lng1, lat2, lng2 = map(np.radians, (lat1, lng1, lat2, lng2))\n",
        "    AVG_EARTH_RADIUS = 6371  # in km\n",
        "    lat = lat2 - lat1\n",
        "    lng = lng2 - lng1\n",
        "    d = np.sin(lat * 0.5) ** 2 + np.cos(lat1) * np.cos(lat2) * np.sin(lng * 0.5) ** 2\n",
        "    h = 2 * AVG_EARTH_RADIUS * np.arcsin(np.sqrt(d))\n",
        "    return h\n",
        "\n",
        "def dummy_manhattan_distance(lat1, lng1, lat2, lng2):\n",
        "    a = haversine_array(lat1, lng1, lat1, lng2)\n",
        "    b = haversine_array(lat1, lng1, lat2, lng1)\n",
        "    return a + b\n",
        "\n",
        "def bearing_array(lat1, lng1, lat2, lng2):\n",
        "    AVG_EARTH_RADIUS = 6371  # in km\n",
        "    lng_delta_rad = np.radians(lng2 - lng1)\n",
        "    lat1, lng1, lat2, lng2 = map(np.radians, (lat1, lng1, lat2, lng2))\n",
        "    y = np.sin(lng_delta_rad) * np.cos(lat2)\n",
        "    x = np.cos(lat1) * np.sin(lat2) - np.sin(lat1) * np.cos(lat2) * np.cos(lng_delta_rad)\n",
        "    return np.degrees(np.arctan2(y, x))"
      ],
      "metadata": {
        "id": "oqFB8mA5VQKl"
      },
      "execution_count": 25,
      "outputs": []
    },
    {
      "cell_type": "code",
      "source": [
        "train.loc[:, 'distance_haversine'] = haversine_array(train['pickup_latitude'].values, train['pickup_longitude'].values, train['dropoff_latitude'].values, train['dropoff_longitude'].values)\n",
        "test.loc[:, 'distance_haversine'] = haversine_array(test['pickup_latitude'].values, test['pickup_longitude'].values, test['dropoff_latitude'].values, test['dropoff_longitude'].values) "
      ],
      "metadata": {
        "id": "9b8AjoBcXTbO"
      },
      "execution_count": 26,
      "outputs": []
    },
    {
      "cell_type": "code",
      "source": [
        "train.loc[:, 'distance_dummy_manhattan'] =  dummy_manhattan_distance(train['pickup_latitude'].values, train['pickup_longitude'].values, train['dropoff_latitude'].values, train['dropoff_longitude'].values)\n",
        "test.loc[:, 'distance_dummy_manhattan'] =  dummy_manhattan_distance(test['pickup_latitude'].values, test['pickup_longitude'].values, test['dropoff_latitude'].values, test['dropoff_longitude'].values)"
      ],
      "metadata": {
        "id": "oHsHrKeZYMJN"
      },
      "execution_count": 27,
      "outputs": []
    },
    {
      "cell_type": "code",
      "source": [
        "train.loc[:, 'direction'] = bearing_array(train['pickup_latitude'].values, train['pickup_longitude'].values, train['dropoff_latitude'].values, train['dropoff_longitude'].values)\n",
        "test.loc[:, 'direction'] = bearing_array(test['pickup_latitude'].values, test['pickup_longitude'].values, test['dropoff_latitude'].values, test['dropoff_longitude'].values)"
      ],
      "metadata": {
        "id": "yfOdkRp7YPxK"
      },
      "execution_count": 28,
      "outputs": []
    },
    {
      "cell_type": "code",
      "source": [
        "coords = np.vstack((train[['pickup_latitude', 'pickup_longitude']].values,\n",
        "                    train[['dropoff_latitude', 'dropoff_longitude']].values))"
      ],
      "metadata": {
        "id": "WDpmYd6PY-De"
      },
      "execution_count": 29,
      "outputs": []
    },
    {
      "cell_type": "code",
      "source": [
        "sample_ind = np.random.permutation(len(coords))[:500000]\n",
        "# Pick random data from coords matrix to then perform kmeans clustering\n",
        "kmeans = MiniBatchKMeans(n_clusters=100, batch_size=10000).fit(coords[sample_ind])"
      ],
      "metadata": {
        "id": "cFi6NEXFaCjF"
      },
      "execution_count": 30,
      "outputs": []
    },
    {
      "cell_type": "code",
      "source": [
        "# Use the fitted model to predict\n",
        "# which clusters the data belong to\n",
        "train.loc[:, 'pickup_cluster'] = kmeans.predict(train[['pickup_latitude', 'pickup_longitude']])\n",
        "train.loc[:, 'dropoff_cluster'] = kmeans.predict(train[['dropoff_latitude', 'dropoff_longitude']])\n",
        "test.loc[:, 'pickup_cluster'] = kmeans.predict(test[['pickup_latitude', 'pickup_longitude']])\n",
        "test.loc[:, 'dropoff_cluster'] = kmeans.predict(test[['dropoff_latitude', 'dropoff_longitude']])"
      ],
      "metadata": {
        "id": "dfxDRPHVcXIN"
      },
      "execution_count": 31,
      "outputs": []
    },
    {
      "cell_type": "code",
      "source": [
        "# Plot the trips frequency of each cluster\n",
        "theData = train.groupby('pickup_cluster').count()[['id']]\n",
        "theData = theData.to_numpy().flatten(order='C')\n",
        "plt.bar(range(len(theData)),theData)\n",
        "\n",
        "plt.xlabel('Cluster Id')\n",
        "plt.ylabel('Number of trips in the cluster')\n",
        "plt.show()"
      ],
      "metadata": {
        "id": "SxgOtjZwc4fS",
        "outputId": "8d8aa9fd-2aef-4822-8b0d-1586ae720d8e",
        "colab": {
          "base_uri": "https://localhost:8080/",
          "height": 279
        }
      },
      "execution_count": 32,
      "outputs": [
        {
          "output_type": "display_data",
          "data": {
            "text/plain": [
              "<Figure size 432x288 with 1 Axes>"
            ],
            "image/png": "[encoded data removed]"
          },
          "metadata": {
            "needs_background": "light"
          }
        }
      ]
    },
    {
      "cell_type": "code",
      "source": [
        "# Plot on the map's canvas the cluster that we have made\n",
        "fig, ax = plt.subplots(ncols=1, nrows=1)\n",
        "ax.scatter(train.pickup_longitude.values[:500000], train.pickup_latitude.values[:500000], s=10, lw=0,\n",
        "           c=train.pickup_cluster[:500000].values, cmap='autumn', alpha=0.2)\n",
        "ax.set_xlim(city_long_border)\n",
        "ax.set_ylim(city_lat_border)\n",
        "ax.set_xlabel('Longitude')\n",
        "ax.set_ylabel('Latitude')\n",
        "plt.show()"
      ],
      "metadata": {
        "id": "ZZba4qm0qbqG",
        "outputId": "2dbd7956-8f3b-412b-f23b-8b23556c7c12",
        "colab": {
          "base_uri": "https://localhost:8080/",
          "height": 283
        }
      },
      "execution_count": 33,
      "outputs": [
        {
          "output_type": "display_data",
          "data": {
            "text/plain": [
              "<Figure size 432x288 with 1 Axes>"
            ],
            "image/png": "[encoded data removed]"
          },
          "metadata": {
            "needs_background": "light"
          }
        }
      ]
    },
    {
      "cell_type": "code",
      "source": [
        "# Extract the months from data\n",
        "train['Month'] = train['pickup_datetime'].dt.month\n",
        "test['Month'] = test['pickup_datetime'].dt.month"
      ],
      "metadata": {
        "id": "bxQrL9mQqSeZ"
      },
      "execution_count": 34,
      "outputs": []
    },
    {
      "cell_type": "code",
      "source": [
        "# See the months spread in train and test data\n",
        "train.groupby('Month').size(),test.groupby('Month').size()"
      ],
      "metadata": {
        "id": "oX_E-S2WrSMZ",
        "outputId": "f96504b6-67f1-4343-9ad0-6520be95cc0a",
        "colab": {
          "base_uri": "https://localhost:8080/"
        }
      },
      "execution_count": 35,
      "outputs": [
        {
          "output_type": "execute_result",
          "data": {
            "text/plain": [
              "(Month\n",
              " 1    226444\n",
              " 2    235054\n",
              " 3    252443\n",
              " 4    247855\n",
              " 5    244591\n",
              " 6    230741\n",
              " dtype: int64, Month\n",
              " 1     97676\n",
              " 2    102314\n",
              " 3    109697\n",
              " 4    107432\n",
              " 5    107570\n",
              " 6    100445\n",
              " dtype: int64)"
            ]
          },
          "metadata": {},
          "execution_count": 35
        }
      ]
    },
    {
      "cell_type": "code",
      "source": [
        "# Now, check for the day in month.\n",
        "# Again, check in train and test data\n",
        "train['DayofMonth'] = train['pickup_datetime'].dt.day\n",
        "test['DayofMonth'] = test['pickup_datetime'].dt.day\n",
        "len(train.groupby('DayofMonth').size()),len(test.groupby('DayofMonth').size())"
      ],
      "metadata": {
        "id": "QQ6Iamqsrdsp",
        "outputId": "b90e79d6-27c3-4ce4-e558-982633a9bd98",
        "colab": {
          "base_uri": "https://localhost:8080/"
        }
      },
      "execution_count": 36,
      "outputs": [
        {
          "output_type": "execute_result",
          "data": {
            "text/plain": [
              "(31, 31)"
            ]
          },
          "metadata": {},
          "execution_count": 36
        }
      ]
    },
    {
      "cell_type": "code",
      "source": [
        "# We check again... all the way\n",
        "# now with the hours\n",
        "train['Hour'] = train['pickup_datetime'].dt.hour\n",
        "test['Hour'] = test['pickup_datetime'].dt.hour\n",
        "len(train.groupby('Hour').size()),len(test.groupby('Hour').size())"
      ],
      "metadata": {
        "id": "EqTumYHMrq-C",
        "outputId": "2b0e3d10-5c8f-4394-b64b-b1553dbf4644",
        "colab": {
          "base_uri": "https://localhost:8080/"
        }
      },
      "execution_count": 37,
      "outputs": [
        {
          "output_type": "execute_result",
          "data": {
            "text/plain": [
              "(24, 24)"
            ]
          },
          "metadata": {},
          "execution_count": 37
        }
      ]
    },
    {
      "cell_type": "code",
      "source": [
        "train['dayofweek'] = train['pickup_datetime'].dt.dayofweek\n",
        "test['dayofweek'] = test['pickup_datetime'].dt.dayofweek\n",
        "len(train.groupby('dayofweek').size()),len(test.groupby('dayofweek').size())"
      ],
      "metadata": {
        "id": "MuebQOd1r1Xl",
        "outputId": "e4cae1ee-ed24-412f-ce9b-59f99e99ab40",
        "colab": {
          "base_uri": "https://localhost:8080/"
        }
      },
      "execution_count": 38,
      "outputs": [
        {
          "output_type": "execute_result",
          "data": {
            "text/plain": [
              "(7, 7)"
            ]
          },
          "metadata": {},
          "execution_count": 38
        }
      ]
    },
    {
      "cell_type": "code",
      "source": [
        "# Calculate the speed\n",
        "train.loc[:, 'avg_speed_h'] = 1000 * train['distance_haversine'] / train['trip_duration']\n",
        "train.loc[:, 'avg_speed_m'] = 1000 * train['distance_dummy_manhattan'] / train['trip_duration']\n",
        "\n",
        "# Plot and check whether speed changes in accordance to\n",
        "# hour of day, day of week, month of year\n",
        "fig, ax = plt.subplots(ncols=3, sharey=True)\n",
        "ax[0].plot(train.groupby('Hour').mean()['avg_speed_h'], 'bo-', lw=2, alpha=0.7)\n",
        "ax[1].plot(train.groupby('dayofweek').mean()['avg_speed_h'], 'go-', lw=2, alpha=0.7)\n",
        "ax[2].plot(train.groupby('Month').mean()['avg_speed_h'], 'ro-', lw=2, alpha=0.7)\n",
        "ax[0].set_xlabel('Hour of Day')\n",
        "ax[1].set_xlabel('Day of Week')\n",
        "ax[2].set_xlabel('Month of Year')\n",
        "ax[0].set_ylabel('Average Speed')\n",
        "fig.suptitle('Average Traffic Speed by Date-part')\n",
        "plt.show()\n",
        "\n",
        "# It seems that there exist some trend that changes\n",
        "# in the function of hour, day, and month\n",
        "# We could interpret and relate this speed graph\n",
        "# with the frequency of traffic from previous graph\n",
        "# higher average speed usually means less traffic"
      ],
      "metadata": {
        "id": "VOCK5wJ6r3_n",
        "outputId": "acee1603-2ad3-4a7c-f384-29845ebfad38",
        "colab": {
          "base_uri": "https://localhost:8080/",
          "height": 308
        }
      },
      "execution_count": 39,
      "outputs": [
        {
          "output_type": "display_data",
          "data": {
            "text/plain": [
              "<Figure size 432x288 with 3 Axes>"
            ],
            "image/png": "[encoded data removed]"
          },
          "metadata": {
            "needs_background": "light"
          }
        }
      ]
    },
    {
      "cell_type": "code",
      "source": [
        "train.head()"
      ],
      "metadata": {
        "id": "4oprSdSjL1yh",
        "outputId": "aa6f359a-a7e7-4d13-8fa8-bafa781f9b7f",
        "colab": {
          "base_uri": "https://localhost:8080/",
          "height": 446
        }
      },
      "execution_count": 40,
      "outputs": [
        {
          "output_type": "execute_result",
          "data": {
            "text/plain": [
              "          id  vendor_id     pickup_datetime    dropoff_datetime  \\\n",
              "0  id2875421          2 2016-03-14 17:24:55 2016-03-14 17:32:30   \n",
              "1  id2377394          1 2016-06-12 00:43:35 2016-06-12 00:54:38   \n",
              "2  id3858529          2 2016-01-19 11:35:24 2016-01-19 12:10:48   \n",
              "3  id3504673          2 2016-04-06 19:32:31 2016-04-06 19:39:40   \n",
              "4  id2181028          2 2016-03-26 13:30:55 2016-03-26 13:38:10   \n",
              "\n",
              "   passenger_count  pickup_longitude  pickup_latitude  dropoff_longitude  \\\n",
              "0                1           -73.982           40.768            -73.965   \n",
              "1                1           -73.980           40.739            -73.999   \n",
              "2                1           -73.979           40.764            -74.005   \n",
              "3                1           -74.010           40.720            -74.012   \n",
              "4                1           -73.973           40.793            -73.973   \n",
              "\n",
              "   dropoff_latitude store_and_fwd_flag  ...  distance_dummy_manhattan  \\\n",
              "0            40.766                  N  ...                     1.735   \n",
              "1            40.731                  N  ...                     2.431   \n",
              "2            40.710                  N  ...                     8.204   \n",
              "3            40.707                  N  ...                     1.661   \n",
              "4            40.783                  N  ...                     1.199   \n",
              "\n",
              "  direction  pickup_cluster  dropoff_cluster  Month  DayofMonth  Hour  \\\n",
              "0    99.970              93               28      3          14    17   \n",
              "1  -117.154              47               72      6          12     0   \n",
              "2  -159.680              44                9      1          19    11   \n",
              "3  -172.738              38               83      4           6    19   \n",
              "4   179.474              42               45      3          26    13   \n",
              "\n",
              "   dayofweek  avg_speed_h  avg_speed_m  \n",
              "0          0        3.293        3.814  \n",
              "1          6        2.723        3.666  \n",
              "2          1        3.006        3.862  \n",
              "3          2        3.463        3.873  \n",
              "4          5        2.732        2.757  \n",
              "\n",
              "[5 rows x 24 columns]"
            ],
            "text/html": [
              "\n",
              "  <div id=\"df-afda9ed7-5015-4ea1-bdd5-cae7d0fdffe5\">\n",
              "    <div class=\"colab-df-container\">\n",
              "      <div>\n",
              "<style scoped>\n",
              "    .dataframe tbody tr th:only-of-type {\n",
              "        vertical-align: middle;\n",
              "    }\n",
              "\n",
              "    .dataframe tbody tr th {\n",
              "        vertical-align: top;\n",
              "    }\n",
              "\n",
              "    .dataframe thead th {\n",
              "        text-align: right;\n",
              "    }\n",
              "</style>\n",
              "<table border=\"1\" class=\"dataframe\">\n",
              "  <thead>\n",
              "    <tr style=\"text-align: right;\">\n",
              "      <th></th>\n",
              "      <th>id</th>\n",
              "      <th>vendor_id</th>\n",
              "      <th>pickup_datetime</th>\n",
              "      <th>dropoff_datetime</th>\n",
              "      <th>passenger_count</th>\n",
              "      <th>pickup_longitude</th>\n",
              "      <th>pickup_latitude</th>\n",
              "      <th>dropoff_longitude</th>\n",
              "      <th>dropoff_latitude</th>\n",
              "      <th>store_and_fwd_flag</th>\n",
              "      <th>...</th>\n",
              "      <th>distance_dummy_manhattan</th>\n",
              "      <th>direction</th>\n",
              "      <th>pickup_cluster</th>\n",
              "      <th>dropoff_cluster</th>\n",
              "      <th>Month</th>\n",
              "      <th>DayofMonth</th>\n",
              "      <th>Hour</th>\n",
              "      <th>dayofweek</th>\n",
              "      <th>avg_speed_h</th>\n",
              "      <th>avg_speed_m</th>\n",
              "    </tr>\n",
              "  </thead>\n",
              "  <tbody>\n",
              "    <tr>\n",
              "      <th>0</th>\n",
              "      <td>id2875421</td>\n",
              "      <td>2</td>\n",
              "      <td>2016-03-14 17:24:55</td>\n",
              "      <td>2016-03-14 17:32:30</td>\n",
              "      <td>1</td>\n",
              "      <td>-73.982</td>\n",
              "      <td>40.768</td>\n",
              "      <td>-73.965</td>\n",
              "      <td>40.766</td>\n",
              "      <td>N</td>\n",
              "      <td>...</td>\n",
              "      <td>1.735</td>\n",
              "      <td>99.970</td>\n",
              "      <td>93</td>\n",
              "      <td>28</td>\n",
              "      <td>3</td>\n",
              "      <td>14</td>\n",
              "      <td>17</td>\n",
              "      <td>0</td>\n",
              "      <td>3.293</td>\n",
              "      <td>3.814</td>\n",
              "    </tr>\n",
              "    <tr>\n",
              "      <th>1</th>\n",
              "      <td>id2377394</td>\n",
              "      <td>1</td>\n",
              "      <td>2016-06-12 00:43:35</td>\n",
              "      <td>2016-06-12 00:54:38</td>\n",
              "      <td>1</td>\n",
              "      <td>-73.980</td>\n",
              "      <td>40.739</td>\n",
              "      <td>-73.999</td>\n",
              "      <td>40.731</td>\n",
              "      <td>N</td>\n",
              "      <td>...</td>\n",
              "      <td>2.431</td>\n",
              "      <td>-117.154</td>\n",
              "      <td>47</td>\n",
              "      <td>72</td>\n",
              "      <td>6</td>\n",
              "      <td>12</td>\n",
              "      <td>0</td>\n",
              "      <td>6</td>\n",
              "      <td>2.723</td>\n",
              "      <td>3.666</td>\n",
              "    </tr>\n",
              "    <tr>\n",
              "      <th>2</th>\n",
              "      <td>id3858529</td>\n",
              "      <td>2</td>\n",
              "      <td>2016-01-19 11:35:24</td>\n",
              "      <td>2016-01-19 12:10:48</td>\n",
              "      <td>1</td>\n",
              "      <td>-73.979</td>\n",
              "      <td>40.764</td>\n",
              "      <td>-74.005</td>\n",
              "      <td>40.710</td>\n",
              "      <td>N</td>\n",
              "      <td>...</td>\n",
              "      <td>8.204</td>\n",
              "      <td>-159.680</td>\n",
              "      <td>44</td>\n",
              "      <td>9</td>\n",
              "      <td>1</td>\n",
              "      <td>19</td>\n",
              "      <td>11</td>\n",
              "      <td>1</td>\n",
              "      <td>3.006</td>\n",
              "      <td>3.862</td>\n",
              "    </tr>\n",
              "    <tr>\n",
              "      <th>3</th>\n",
              "      <td>id3504673</td>\n",
              "      <td>2</td>\n",
              "      <td>2016-04-06 19:32:31</td>\n",
              "      <td>2016-04-06 19:39:40</td>\n",
              "      <td>1</td>\n",
              "      <td>-74.010</td>\n",
              "      <td>40.720</td>\n",
              "      <td>-74.012</td>\n",
              "      <td>40.707</td>\n",
              "      <td>N</td>\n",
              "      <td>...</td>\n",
              "      <td>1.661</td>\n",
              "      <td>-172.738</td>\n",
              "      <td>38</td>\n",
              "      <td>83</td>\n",
              "      <td>4</td>\n",
              "      <td>6</td>\n",
              "      <td>19</td>\n",
              "      <td>2</td>\n",
              "      <td>3.463</td>\n",
              "      <td>3.873</td>\n",
              "    </tr>\n",
              "    <tr>\n",
              "      <th>4</th>\n",
              "      <td>id2181028</td>\n",
              "      <td>2</td>\n",
              "      <td>2016-03-26 13:30:55</td>\n",
              "      <td>2016-03-26 13:38:10</td>\n",
              "      <td>1</td>\n",
              "      <td>-73.973</td>\n",
              "      <td>40.793</td>\n",
              "      <td>-73.973</td>\n",
              "      <td>40.783</td>\n",
              "      <td>N</td>\n",
              "      <td>...</td>\n",
              "      <td>1.199</td>\n",
              "      <td>179.474</td>\n",
              "      <td>42</td>\n",
              "      <td>45</td>\n",
              "      <td>3</td>\n",
              "      <td>26</td>\n",
              "      <td>13</td>\n",
              "      <td>5</td>\n",
              "      <td>2.732</td>\n",
              "      <td>2.757</td>\n",
              "    </tr>\n",
              "  </tbody>\n",
              "</table>\n",
              "<p>5 rows × 24 columns</p>\n",
              "</div>\n",
              "      <button class=\"colab-df-convert\" onclick=\"convertToInteractive('df-afda9ed7-5015-4ea1-bdd5-cae7d0fdffe5')\"\n",
              "              title=\"Convert this dataframe to an interactive table.\"\n",
              "              style=\"display:none;\">\n",
              "        \n",
              "  <svg xmlns=\"http://www.w3.org/2000/svg\" height=\"24px\"viewBox=\"0 0 24 24\"\n",
              "       width=\"24px\">\n",
              "    <path d=\"M0 0h24v24H0V0z\" fill=\"none\"/>\n",
              "    <path d=\"M18.56 5.44l.94 2.06.94-2.06 2.06-.94-2.06-.94-.94-2.06-.94 2.06-2.06.94zm-11 1L8.5 8.5l.94-2.06 2.06-.94-2.06-.94L8.5 2.5l-.94 2.06-2.06.94zm10 10l.94 2.06.94-2.06 2.06-.94-2.06-.94-.94-2.06-.94 2.06-2.06.94z\"/><path d=\"M17.41 7.96l-1.37-1.37c-.4-.4-.92-.59-1.43-.59-.52 0-1.04.2-1.43.59L10.3 9.45l-7.72 7.72c-.78.78-.78 2.05 0 2.83L4 21.41c.39.39.9.59 1.41.59.51 0 1.02-.2 1.41-.59l7.78-7.78 2.81-2.81c.8-.78.8-2.07 0-2.86zM5.41 20L4 18.59l7.72-7.72 1.47 1.35L5.41 20z\"/>\n",
              "  </svg>\n",
              "      </button>\n",
              "      \n",
              "  <style>\n",
              "    .colab-df-container {\n",
              "      display:flex;\n",
              "      flex-wrap:wrap;\n",
              "      gap: 12px;\n",
              "    }\n",
              "\n",
              "    .colab-df-convert {\n",
              "      background-color: #E8F0FE;\n",
              "      border: none;\n",
              "      border-radius: 50%;\n",
              "      cursor: pointer;\n",
              "      display: none;\n",
              "      fill: #1967D2;\n",
              "      height: 32px;\n",
              "      padding: 0 0 0 0;\n",
              "      width: 32px;\n",
              "    }\n",
              "\n",
              "    .colab-df-convert:hover {\n",
              "      background-color: #E2EBFA;\n",
              "      box-shadow: 0px 1px 2px rgba(60, 64, 67, 0.3), 0px 1px 3px 1px rgba(60, 64, 67, 0.15);\n",
              "      fill: #174EA6;\n",
              "    }\n",
              "\n",
              "    [theme=dark] .colab-df-convert {\n",
              "      background-color: #3B4455;\n",
              "      fill: #D2E3FC;\n",
              "    }\n",
              "\n",
              "    [theme=dark] .colab-df-convert:hover {\n",
              "      background-color: #434B5C;\n",
              "      box-shadow: 0px 1px 3px 1px rgba(0, 0, 0, 0.15);\n",
              "      filter: drop-shadow(0px 1px 2px rgba(0, 0, 0, 0.3));\n",
              "      fill: #FFFFFF;\n",
              "    }\n",
              "  </style>\n",
              "\n",
              "      <script>\n",
              "        const buttonEl =\n",
              "          document.querySelector('#df-afda9ed7-5015-4ea1-bdd5-cae7d0fdffe5 button.colab-df-convert');\n",
              "        buttonEl.style.display =\n",
              "          google.colab.kernel.accessAllowed ? 'block' : 'none';\n",
              "\n",
              "        async function convertToInteractive(key) {\n",
              "          const element = document.querySelector('#df-afda9ed7-5015-4ea1-bdd5-cae7d0fdffe5');\n",
              "          const dataTable =\n",
              "            await google.colab.kernel.invokeFunction('convertToInteractive',\n",
              "                                                     [key], {});\n",
              "          if (!dataTable) return;\n",
              "\n",
              "          const docLinkHtml = 'Like what you see? Visit the ' +\n",
              "            '<a target=\"_blank\" href=https://colab.research.google.com/notebooks/data_table.ipynb>data table notebook</a>'\n",
              "            + ' to learn more about interactive tables.';\n",
              "          element.innerHTML = '';\n",
              "          dataTable['output_type'] = 'display_data';\n",
              "          await google.colab.output.renderOutput(dataTable, element);\n",
              "          const docLink = document.createElement('div');\n",
              "          docLink.innerHTML = docLinkHtml;\n",
              "          element.appendChild(docLink);\n",
              "        }\n",
              "      </script>\n",
              "    </div>\n",
              "  </div>\n",
              "  "
            ]
          },
          "metadata": {},
          "execution_count": 40
        }
      ]
    },
    {
      "cell_type": "code",
      "source": [
        "# Round the lat long value to 3 numbers decimal\n",
        "train.loc[:, 'pickup_lat_bin'] = np.round(train['pickup_latitude'], 3)\n",
        "train.loc[:, 'pickup_long_bin'] = np.round(train['pickup_longitude'], 3)\n",
        "\n",
        "# Create a grid map with the accuracy of 3 numbers decimal\n",
        "gby_cols = ['pickup_lat_bin', 'pickup_long_bin']\n",
        "# Group all the data to their respective square grid...\n",
        "# then calculate the average speed of each grid\n",
        "coord_speed = train.groupby(gby_cols).mean()[['avg_speed_h']].reset_index()\n",
        "# also calculate the total trip in each specific square grid\n",
        "coord_count = train.groupby(gby_cols).count()[['id']].reset_index()\n",
        "coord_stats = pd.merge(coord_speed, coord_count, on=gby_cols)\n",
        "\n",
        "# Filter the square grid, so that only grid with trip frequency\n",
        "# over 100 may appear\n",
        "coord_stats = coord_stats[coord_stats['id'] > 100]\n",
        "\n",
        "fig, ax = plt.subplots(ncols=1, nrows=1)\n",
        "# Sample the first 500.000 trips\n",
        "# Black dots represent one trip\n",
        "ax.scatter(train.pickup_longitude.values[:500000], train.pickup_latitude.values[:500000], color='black', s=1, alpha=0.2)\n",
        "# Speed is represented using hot_r color map\n",
        "# The brighter the faster\n",
        "ax.scatter(coord_stats.pickup_long_bin.values, coord_stats.pickup_lat_bin.values, c=coord_stats.avg_speed_h.values,\n",
        "           cmap='hot_r', s=20, alpha=0.5, vmin=1, vmax=8)\n",
        "\n",
        "ax.set_xlim(city_long_border)\n",
        "ax.set_ylim(city_lat_border)\n",
        "ax.set_xlabel('Longitude')\n",
        "ax.set_ylabel('Latitude')\n",
        "plt.title('Average speed')\n",
        "plt.show()"
      ],
      "metadata": {
        "id": "sgES0au3tYyt",
        "outputId": "8a1b4e4c-e6f6-4b52-97a9-a09cb5b09b68",
        "colab": {
          "base_uri": "https://localhost:8080/",
          "height": 295
        }
      },
      "execution_count": 41,
      "outputs": [
        {
          "output_type": "display_data",
          "data": {
            "text/plain": [
              "<Figure size 432x288 with 1 Axes>"
            ],
            "image/png": "[encoded data removed]"
          },
          "metadata": {
            "needs_background": "light"
          }
        }
      ]
    },
    {
      "cell_type": "code",
      "source": [
        "# One hot encode things...\n",
        "# dummy variable is actually a 0 or 1 binary variable\n",
        "# it is one hot encoding in this case\n",
        "vendor_train = pd.get_dummies(train['vendor_id'], prefix='vi', prefix_sep='_')\n",
        "vendor_test = pd.get_dummies(test['vendor_id'], prefix='vi', prefix_sep='_')\n",
        "passenger_count_train = pd.get_dummies(train['passenger_count'], prefix='pc', prefix_sep='_')\n",
        "passenger_count_test = pd.get_dummies(test['passenger_count'], prefix='pc', prefix_sep='_')\n",
        "store_and_fwd_flag_train = pd.get_dummies(train['store_and_fwd_flag'], prefix='sf', prefix_sep='_')\n",
        "store_and_fwd_flag_test = pd.get_dummies(test['store_and_fwd_flag'], prefix='sf', prefix_sep='_')\n",
        "cluster_pickup_train = pd.get_dummies(train['pickup_cluster'], prefix='p', prefix_sep='_')\n",
        "cluster_pickup_test = pd.get_dummies(test['pickup_cluster'], prefix='p', prefix_sep='_')\n",
        "cluster_dropoff_train = pd.get_dummies(train['dropoff_cluster'], prefix='d', prefix_sep='_')\n",
        "cluster_dropoff_test = pd.get_dummies(test['dropoff_cluster'], prefix='d', prefix_sep='_')\n",
        "\n",
        "month_train = pd.get_dummies(train['Month'], prefix='m', prefix_sep='_')\n",
        "month_test = pd.get_dummies(test['Month'], prefix='m', prefix_sep='_')\n",
        "dom_train = pd.get_dummies(train['DayofMonth'], prefix='dom', prefix_sep='_')\n",
        "dom_test = pd.get_dummies(test['DayofMonth'], prefix='dom', prefix_sep='_')\n",
        "hour_train = pd.get_dummies(train['Hour'], prefix='h', prefix_sep='_')\n",
        "hour_test = pd.get_dummies(test['Hour'], prefix='h', prefix_sep='_')\n",
        "dow_train = pd.get_dummies(train['dayofweek'], prefix='dow', prefix_sep='_')\n",
        "dow_test = pd.get_dummies(test['dayofweek'], prefix='dow', prefix_sep='_')"
      ],
      "metadata": {
        "id": "bIWOOETNVq_8"
      },
      "execution_count": 42,
      "outputs": []
    },
    {
      "cell_type": "code",
      "source": [
        "# check things, just to make sure\n",
        "print(vendor_train.shape,vendor_test.shape)\n",
        "print(passenger_count_train.shape,passenger_count_test.shape)\n",
        "print(store_and_fwd_flag_train.shape,store_and_fwd_flag_test.shape)\n",
        "print(cluster_pickup_train.shape,cluster_pickup_test.shape)\n",
        "print(cluster_dropoff_train.shape,cluster_dropoff_test.shape)\n",
        "print(month_train.shape,month_test.shape)\n",
        "print(dom_train.shape,dom_test.shape)\n",
        "print(hour_train.shape,hour_test.shape)\n",
        "print(dow_train.shape,dow_test.shape)"
      ],
      "metadata": {
        "id": "IDD9CNVOhp2s",
        "outputId": "2644c4ab-0fe6-40eb-9327-1d609b135c1b",
        "colab": {
          "base_uri": "https://localhost:8080/"
        }
      },
      "execution_count": 43,
      "outputs": [
        {
          "output_type": "stream",
          "name": "stdout",
          "text": [
            "(1437128, 2) (625134, 2)\n",
            "(1437128, 7) (625134, 8)\n",
            "(1437128, 2) (625134, 2)\n",
            "(1437128, 100) (625134, 100)\n",
            "(1437128, 100) (625134, 100)\n",
            "(1437128, 6) (625134, 6)\n",
            "(1437128, 31) (625134, 31)\n",
            "(1437128, 24) (625134, 24)\n",
            "(1437128, 7) (625134, 7)\n"
          ]
        }
      ]
    },
    {
      "cell_type": "code",
      "source": [
        "# Drop the data with 9 passenger, because it is\n",
        "# considered an outlier\n",
        "passenger_count_test = passenger_count_test.drop('pc_9', axis = 1)"
      ],
      "metadata": {
        "id": "1RvlZUUYiOEx"
      },
      "execution_count": 44,
      "outputs": []
    },
    {
      "cell_type": "code",
      "source": [
        "# Drop the categorical variables, simply because\n",
        "# we have one hot encode those things\n",
        "train = train.drop(['id','vendor_id','passenger_count','store_and_fwd_flag','Month','DayofMonth','Hour','dayofweek',\n",
        "                   'pickup_longitude','pickup_latitude','dropoff_longitude',\n",
        "                    'dropoff_latitude','pickup_datetime','pickup_date'],axis = 1)\n",
        "Test_id = test['id']\n",
        "test = test.drop(['id','vendor_id','passenger_count','store_and_fwd_flag','Month','DayofMonth','Hour','dayofweek',\n",
        "                   'pickup_longitude','pickup_latitude','dropoff_longitude',\n",
        "                  'dropoff_latitude','pickup_datetime','pickup_date'], axis = 1)"
      ],
      "metadata": {
        "id": "fr5aM1tCikMe"
      },
      "execution_count": 45,
      "outputs": []
    },
    {
      "cell_type": "code",
      "source": [
        "train = train.drop(['dropoff_datetime','avg_speed_h','avg_speed_m',\n",
        "                    'pickup_lat_bin','pickup_long_bin','trip_duration'], axis = 1)"
      ],
      "metadata": {
        "id": "P_xQpwOjjMSg"
      },
      "execution_count": 46,
      "outputs": []
    },
    {
      "cell_type": "code",
      "source": [
        "print(train.shape,test.shape)"
      ],
      "metadata": {
        "id": "t7jdfC4Vjg97",
        "outputId": "d5b32400-47e2-415f-aa2b-8b80c62bab34",
        "colab": {
          "base_uri": "https://localhost:8080/"
        }
      },
      "execution_count": 47,
      "outputs": [
        {
          "output_type": "stream",
          "name": "stdout",
          "text": [
            "(1437128, 6) (625134, 5)\n"
          ]
        }
      ]
    },
    {
      "cell_type": "code",
      "source": [
        "# Concat the one hot encode columns\n",
        "Train_Master = pd.concat([train,\n",
        "                          vendor_train,\n",
        "                          passenger_count_train,\n",
        "                          store_and_fwd_flag_train,\n",
        "                          cluster_pickup_train,\n",
        "                          cluster_dropoff_train,\n",
        "                         month_train,\n",
        "                         dom_train,\n",
        "                          hour_test,\n",
        "                          dow_train\n",
        "                         ], axis=1)"
      ],
      "metadata": {
        "id": "SGk4vYF8jIyP"
      },
      "execution_count": 48,
      "outputs": []
    },
    {
      "cell_type": "code",
      "source": [
        "# Same for test set\n",
        "Test_master = pd.concat([test, \n",
        "                         vendor_test,\n",
        "                         passenger_count_test,\n",
        "                         store_and_fwd_flag_test,\n",
        "                         cluster_pickup_test,\n",
        "                         cluster_dropoff_test,\n",
        "                         month_test,\n",
        "                         dom_test,\n",
        "                          hour_test,\n",
        "                          dow_test], axis=1)"
      ],
      "metadata": {
        "id": "TNF_ETgHkXXR"
      },
      "execution_count": 49,
      "outputs": []
    },
    {
      "cell_type": "code",
      "source": [
        "print(Train_Master.shape,Test_master.shape)"
      ],
      "metadata": {
        "id": "MuviHOVgkdjw",
        "outputId": "71f9939f-e4c7-4af1-b06e-ee589b29ba9c",
        "colab": {
          "base_uri": "https://localhost:8080/"
        }
      },
      "execution_count": 50,
      "outputs": [
        {
          "output_type": "stream",
          "name": "stdout",
          "text": [
            "(1446345, 285) (625134, 284)\n"
          ]
        }
      ]
    },
    {
      "cell_type": "code",
      "source": [
        "# Train_Master = Train_Master.drop(['pickup_datetime','pickup_date'],axis = 1)\n",
        "# Test_master = Test_master.drop(['pickup_datetime','pickup_date'],axis = 1)"
      ],
      "metadata": {
        "id": "PHLG2IDJkg5W"
      },
      "execution_count": 51,
      "outputs": []
    },
    {
      "cell_type": "code",
      "source": [
        "print(Train_Master.shape,Test_master.shape)"
      ],
      "metadata": {
        "id": "jlvsVV6JknL4",
        "outputId": "1e4096fb-5415-492c-9eef-8910314cec0d",
        "colab": {
          "base_uri": "https://localhost:8080/"
        }
      },
      "execution_count": 52,
      "outputs": [
        {
          "output_type": "stream",
          "name": "stdout",
          "text": [
            "(1446345, 285) (625134, 284)\n"
          ]
        }
      ]
    },
    {
      "cell_type": "code",
      "source": [
        "# Split the train-test data\n",
        "Train, Test = train_test_split(Train_Master[0:100000], test_size = 0.2)"
      ],
      "metadata": {
        "id": "iSfiepxbktI5"
      },
      "execution_count": 65,
      "outputs": []
    },
    {
      "cell_type": "code",
      "source": [
        "Train = Train.dropna(axis=0)\n",
        "Test = Test.dropna(axis=0)"
      ],
      "metadata": {
        "id": "R5hT-83hxp97"
      },
      "execution_count": 68,
      "outputs": []
    },
    {
      "cell_type": "code",
      "source": [
        "# Check whether data still have null\n",
        "print(Train.isna().sum().any())\n",
        "print(Test.isna().sum().any())"
      ],
      "metadata": {
        "id": "CSzNC6-bxuzs",
        "outputId": "f1dfb7cf-40c8-4c91-ef06-e62d0563fa00",
        "colab": {
          "base_uri": "https://localhost:8080/"
        }
      },
      "execution_count": 73,
      "outputs": [
        {
          "output_type": "stream",
          "name": "stdout",
          "text": [
            "False\n",
            "False\n"
          ]
        }
      ]
    },
    {
      "cell_type": "code",
      "source": [
        "# Clear the data once more\n",
        "X_train = Train.drop(['log_trip_duration'], axis=1)\n",
        "Y_train = Train[\"log_trip_duration\"]\n",
        "X_test = Test.drop(['log_trip_duration'], axis=1)\n",
        "Y_test = Test[\"log_trip_duration\"]\n",
        "\n",
        "Y_test = Y_test.reset_index().drop('index',axis = 1)\n",
        "Y_train = Y_train.reset_index().drop('index',axis = 1)"
      ],
      "metadata": {
        "id": "ELPNs2DooLmI"
      },
      "execution_count": 74,
      "outputs": []
    },
    {
      "cell_type": "code",
      "source": [
        "X_test.head()"
      ],
      "metadata": {
        "id": "nrSruq6huH6w",
        "outputId": "94e01b61-1d10-4cb2-e0a0-45ba9cdbdf0b",
        "colab": {
          "base_uri": "https://localhost:8080/",
          "height": 334
        }
      },
      "execution_count": 75,
      "outputs": [
        {
          "output_type": "execute_result",
          "data": {
            "text/plain": [
              "       distance_haversine  distance_dummy_manhattan  direction  \\\n",
              "36606               4.125                     5.497     25.436   \n",
              "92970               1.895                     2.165     81.120   \n",
              "86171               2.654                     2.846    -85.682   \n",
              "69031              14.916                    18.643     17.063   \n",
              "73870               1.460                     2.044   -143.172   \n",
              "\n",
              "       pickup_cluster  dropoff_cluster  vi_1  vi_2  pc_0  pc_1  pc_2  ...  \\\n",
              "36606          30.000           33.000 1.000 0.000 0.000 1.000 0.000  ...   \n",
              "92970          93.000           85.000 0.000 1.000 0.000 0.000 0.000  ...   \n",
              "86171          73.000            4.000 0.000 1.000 0.000 1.000 0.000  ...   \n",
              "69031          58.000           89.000 1.000 0.000 0.000 0.000 1.000  ...   \n",
              "73870          73.000           63.000 1.000 0.000 0.000 1.000 0.000  ...   \n",
              "\n",
              "       h_21  h_22  h_23  dow_0  dow_1  dow_2  dow_3  dow_4  dow_5  dow_6  \n",
              "36606 0.000 0.000 0.000  0.000  0.000  0.000  0.000  0.000  1.000  0.000  \n",
              "92970 0.000 0.000 0.000  1.000  0.000  0.000  0.000  0.000  0.000  0.000  \n",
              "86171 0.000 0.000 0.000  0.000  0.000  1.000  0.000  0.000  0.000  0.000  \n",
              "69031 0.000 0.000 0.000  0.000  0.000  0.000  0.000  1.000  0.000  0.000  \n",
              "73870 0.000 0.000 0.000  0.000  1.000  0.000  0.000  0.000  0.000  0.000  \n",
              "\n",
              "[5 rows x 284 columns]"
            ],
            "text/html": [
              "\n",
              "  <div id=\"df-d186511e-f248-414a-ac4e-9fd7a20301ac\">\n",
              "    <div class=\"colab-df-container\">\n",
              "      <div>\n",
              "<style scoped>\n",
              "    .dataframe tbody tr th:only-of-type {\n",
              "        vertical-align: middle;\n",
              "    }\n",
              "\n",
              "    .dataframe tbody tr th {\n",
              "        vertical-align: top;\n",
              "    }\n",
              "\n",
              "    .dataframe thead th {\n",
              "        text-align: right;\n",
              "    }\n",
              "</style>\n",
              "<table border=\"1\" class=\"dataframe\">\n",
              "  <thead>\n",
              "    <tr style=\"text-align: right;\">\n",
              "      <th></th>\n",
              "      <th>distance_haversine</th>\n",
              "      <th>distance_dummy_manhattan</th>\n",
              "      <th>direction</th>\n",
              "      <th>pickup_cluster</th>\n",
              "      <th>dropoff_cluster</th>\n",
              "      <th>vi_1</th>\n",
              "      <th>vi_2</th>\n",
              "      <th>pc_0</th>\n",
              "      <th>pc_1</th>\n",
              "      <th>pc_2</th>\n",
              "      <th>...</th>\n",
              "      <th>h_21</th>\n",
              "      <th>h_22</th>\n",
              "      <th>h_23</th>\n",
              "      <th>dow_0</th>\n",
              "      <th>dow_1</th>\n",
              "      <th>dow_2</th>\n",
              "      <th>dow_3</th>\n",
              "      <th>dow_4</th>\n",
              "      <th>dow_5</th>\n",
              "      <th>dow_6</th>\n",
              "    </tr>\n",
              "  </thead>\n",
              "  <tbody>\n",
              "    <tr>\n",
              "      <th>36606</th>\n",
              "      <td>4.125</td>\n",
              "      <td>5.497</td>\n",
              "      <td>25.436</td>\n",
              "      <td>30.000</td>\n",
              "      <td>33.000</td>\n",
              "      <td>1.000</td>\n",
              "      <td>0.000</td>\n",
              "      <td>0.000</td>\n",
              "      <td>1.000</td>\n",
              "      <td>0.000</td>\n",
              "      <td>...</td>\n",
              "      <td>0.000</td>\n",
              "      <td>0.000</td>\n",
              "      <td>0.000</td>\n",
              "      <td>0.000</td>\n",
              "      <td>0.000</td>\n",
              "      <td>0.000</td>\n",
              "      <td>0.000</td>\n",
              "      <td>0.000</td>\n",
              "      <td>1.000</td>\n",
              "      <td>0.000</td>\n",
              "    </tr>\n",
              "    <tr>\n",
              "      <th>92970</th>\n",
              "      <td>1.895</td>\n",
              "      <td>2.165</td>\n",
              "      <td>81.120</td>\n",
              "      <td>93.000</td>\n",
              "      <td>85.000</td>\n",
              "      <td>0.000</td>\n",
              "      <td>1.000</td>\n",
              "      <td>0.000</td>\n",
              "      <td>0.000</td>\n",
              "      <td>0.000</td>\n",
              "      <td>...</td>\n",
              "      <td>0.000</td>\n",
              "      <td>0.000</td>\n",
              "      <td>0.000</td>\n",
              "      <td>1.000</td>\n",
              "      <td>0.000</td>\n",
              "      <td>0.000</td>\n",
              "      <td>0.000</td>\n",
              "      <td>0.000</td>\n",
              "      <td>0.000</td>\n",
              "      <td>0.000</td>\n",
              "    </tr>\n",
              "    <tr>\n",
              "      <th>86171</th>\n",
              "      <td>2.654</td>\n",
              "      <td>2.846</td>\n",
              "      <td>-85.682</td>\n",
              "      <td>73.000</td>\n",
              "      <td>4.000</td>\n",
              "      <td>0.000</td>\n",
              "      <td>1.000</td>\n",
              "      <td>0.000</td>\n",
              "      <td>1.000</td>\n",
              "      <td>0.000</td>\n",
              "      <td>...</td>\n",
              "      <td>0.000</td>\n",
              "      <td>0.000</td>\n",
              "      <td>0.000</td>\n",
              "      <td>0.000</td>\n",
              "      <td>0.000</td>\n",
              "      <td>1.000</td>\n",
              "      <td>0.000</td>\n",
              "      <td>0.000</td>\n",
              "      <td>0.000</td>\n",
              "      <td>0.000</td>\n",
              "    </tr>\n",
              "    <tr>\n",
              "      <th>69031</th>\n",
              "      <td>14.916</td>\n",
              "      <td>18.643</td>\n",
              "      <td>17.063</td>\n",
              "      <td>58.000</td>\n",
              "      <td>89.000</td>\n",
              "      <td>1.000</td>\n",
              "      <td>0.000</td>\n",
              "      <td>0.000</td>\n",
              "      <td>0.000</td>\n",
              "      <td>1.000</td>\n",
              "      <td>...</td>\n",
              "      <td>0.000</td>\n",
              "      <td>0.000</td>\n",
              "      <td>0.000</td>\n",
              "      <td>0.000</td>\n",
              "      <td>0.000</td>\n",
              "      <td>0.000</td>\n",
              "      <td>0.000</td>\n",
              "      <td>1.000</td>\n",
              "      <td>0.000</td>\n",
              "      <td>0.000</td>\n",
              "    </tr>\n",
              "    <tr>\n",
              "      <th>73870</th>\n",
              "      <td>1.460</td>\n",
              "      <td>2.044</td>\n",
              "      <td>-143.172</td>\n",
              "      <td>73.000</td>\n",
              "      <td>63.000</td>\n",
              "      <td>1.000</td>\n",
              "      <td>0.000</td>\n",
              "      <td>0.000</td>\n",
              "      <td>1.000</td>\n",
              "      <td>0.000</td>\n",
              "      <td>...</td>\n",
              "      <td>0.000</td>\n",
              "      <td>0.000</td>\n",
              "      <td>0.000</td>\n",
              "      <td>0.000</td>\n",
              "      <td>1.000</td>\n",
              "      <td>0.000</td>\n",
              "      <td>0.000</td>\n",
              "      <td>0.000</td>\n",
              "      <td>0.000</td>\n",
              "      <td>0.000</td>\n",
              "    </tr>\n",
              "  </tbody>\n",
              "</table>\n",
              "<p>5 rows × 284 columns</p>\n",
              "</div>\n",
              "      <button class=\"colab-df-convert\" onclick=\"convertToInteractive('df-d186511e-f248-414a-ac4e-9fd7a20301ac')\"\n",
              "              title=\"Convert this dataframe to an interactive table.\"\n",
              "              style=\"display:none;\">\n",
              "        \n",
              "  <svg xmlns=\"http://www.w3.org/2000/svg\" height=\"24px\"viewBox=\"0 0 24 24\"\n",
              "       width=\"24px\">\n",
              "    <path d=\"M0 0h24v24H0V0z\" fill=\"none\"/>\n",
              "    <path d=\"M18.56 5.44l.94 2.06.94-2.06 2.06-.94-2.06-.94-.94-2.06-.94 2.06-2.06.94zm-11 1L8.5 8.5l.94-2.06 2.06-.94-2.06-.94L8.5 2.5l-.94 2.06-2.06.94zm10 10l.94 2.06.94-2.06 2.06-.94-2.06-.94-.94-2.06-.94 2.06-2.06.94z\"/><path d=\"M17.41 7.96l-1.37-1.37c-.4-.4-.92-.59-1.43-.59-.52 0-1.04.2-1.43.59L10.3 9.45l-7.72 7.72c-.78.78-.78 2.05 0 2.83L4 21.41c.39.39.9.59 1.41.59.51 0 1.02-.2 1.41-.59l7.78-7.78 2.81-2.81c.8-.78.8-2.07 0-2.86zM5.41 20L4 18.59l7.72-7.72 1.47 1.35L5.41 20z\"/>\n",
              "  </svg>\n",
              "      </button>\n",
              "      \n",
              "  <style>\n",
              "    .colab-df-container {\n",
              "      display:flex;\n",
              "      flex-wrap:wrap;\n",
              "      gap: 12px;\n",
              "    }\n",
              "\n",
              "    .colab-df-convert {\n",
              "      background-color: #E8F0FE;\n",
              "      border: none;\n",
              "      border-radius: 50%;\n",
              "      cursor: pointer;\n",
              "      display: none;\n",
              "      fill: #1967D2;\n",
              "      height: 32px;\n",
              "      padding: 0 0 0 0;\n",
              "      width: 32px;\n",
              "    }\n",
              "\n",
              "    .colab-df-convert:hover {\n",
              "      background-color: #E2EBFA;\n",
              "      box-shadow: 0px 1px 2px rgba(60, 64, 67, 0.3), 0px 1px 3px 1px rgba(60, 64, 67, 0.15);\n",
              "      fill: #174EA6;\n",
              "    }\n",
              "\n",
              "    [theme=dark] .colab-df-convert {\n",
              "      background-color: #3B4455;\n",
              "      fill: #D2E3FC;\n",
              "    }\n",
              "\n",
              "    [theme=dark] .colab-df-convert:hover {\n",
              "      background-color: #434B5C;\n",
              "      box-shadow: 0px 1px 3px 1px rgba(0, 0, 0, 0.15);\n",
              "      filter: drop-shadow(0px 1px 2px rgba(0, 0, 0, 0.3));\n",
              "      fill: #FFFFFF;\n",
              "    }\n",
              "  </style>\n",
              "\n",
              "      <script>\n",
              "        const buttonEl =\n",
              "          document.querySelector('#df-d186511e-f248-414a-ac4e-9fd7a20301ac button.colab-df-convert');\n",
              "        buttonEl.style.display =\n",
              "          google.colab.kernel.accessAllowed ? 'block' : 'none';\n",
              "\n",
              "        async function convertToInteractive(key) {\n",
              "          const element = document.querySelector('#df-d186511e-f248-414a-ac4e-9fd7a20301ac');\n",
              "          const dataTable =\n",
              "            await google.colab.kernel.invokeFunction('convertToInteractive',\n",
              "                                                     [key], {});\n",
              "          if (!dataTable) return;\n",
              "\n",
              "          const docLinkHtml = 'Like what you see? Visit the ' +\n",
              "            '<a target=\"_blank\" href=https://colab.research.google.com/notebooks/data_table.ipynb>data table notebook</a>'\n",
              "            + ' to learn more about interactive tables.';\n",
              "          element.innerHTML = '';\n",
              "          dataTable['output_type'] = 'display_data';\n",
              "          await google.colab.output.renderOutput(dataTable, element);\n",
              "          const docLink = document.createElement('div');\n",
              "          docLink.innerHTML = docLinkHtml;\n",
              "          element.appendChild(docLink);\n",
              "        }\n",
              "      </script>\n",
              "    </div>\n",
              "  </div>\n",
              "  "
            ]
          },
          "metadata": {},
          "execution_count": 75
        }
      ]
    },
    {
      "cell_type": "code",
      "source": [
        "# Make the \"bundle\" data specialized for XGBoost\n",
        "# It's more like .tfrecord in TF\n",
        "dtrain = xgb.DMatrix(X_train, label=Y_train)\n",
        "dvalid = xgb.DMatrix(X_test, label=Y_test)\n",
        "dtest = xgb.DMatrix(Test_master)\n",
        "watchlist = [(dtrain, 'train'), (dvalid, 'valid')]"
      ],
      "metadata": {
        "id": "ZK3mov5_opBN"
      },
      "execution_count": 76,
      "outputs": []
    },
    {
      "cell_type": "code",
      "source": [
        "# Train the model with many an array of\n",
        "# possible configurations\n",
        "md = [6]\n",
        "lr = [0.1,0.3]\n",
        "mcw = [20,25,30]\n",
        "for m in md:\n",
        "   for l in lr:\n",
        "       for mc in mcw:\n",
        "           t0 = datetime.now()\n",
        "           xgb_pars = {'min_child_weight': mc, 'eta': l, 'colsample_bytree': 0.9, \n",
        "                       'max_depth': m,\n",
        "           'subsample': 0.9, 'lambda': 1., 'nthread': -1, 'booster' : 'gbtree', 'silent': 1,\n",
        "           'eval_metric': 'rmse', 'objective': 'reg:linear'}\n",
        "           model = xgb.train(xgb_pars, dtrain, 50, watchlist, early_stopping_rounds=10,\n",
        "                 maximize=False, verbose_eval=1)"
      ],
      "metadata": {
        "id": "pcSIXLdtpQWK",
        "outputId": "f3bfb48c-238d-4f83-c6c7-30edbb3a7718",
        "colab": {
          "base_uri": "https://localhost:8080/"
        }
      },
      "execution_count": 77,
      "outputs": [
        {
          "output_type": "stream",
          "name": "stdout",
          "text": [
            "[0]\ttrain-rmse:5.40195\tvalid-rmse:5.40237\n",
            "Multiple eval metrics have been passed: 'valid-rmse' will be used for early stopping.\n",
            "\n",
            "Will train until valid-rmse hasn't improved in 10 rounds.\n",
            "[1]\ttrain-rmse:4.86593\tvalid-rmse:4.86666\n",
            "[2]\ttrain-rmse:4.38389\tvalid-rmse:4.38493\n",
            "[3]\ttrain-rmse:3.95058\tvalid-rmse:3.95197\n",
            "[4]\ttrain-rmse:3.56108\tvalid-rmse:3.56281\n",
            "[5]\ttrain-rmse:3.21114\tvalid-rmse:3.2131\n",
            "[6]\ttrain-rmse:2.89676\tvalid-rmse:2.89904\n",
            "[7]\ttrain-rmse:2.61443\tvalid-rmse:2.617\n",
            "[8]\ttrain-rmse:2.36109\tvalid-rmse:2.36381\n",
            "[9]\ttrain-rmse:2.13387\tvalid-rmse:2.13687\n",
            "[10]\ttrain-rmse:1.93026\tvalid-rmse:1.93373\n",
            "[11]\ttrain-rmse:1.74793\tvalid-rmse:1.7518\n",
            "[12]\ttrain-rmse:1.58472\tvalid-rmse:1.5889\n",
            "[13]\ttrain-rmse:1.43901\tvalid-rmse:1.44359\n",
            "[14]\ttrain-rmse:1.30919\tvalid-rmse:1.31414\n",
            "[15]\ttrain-rmse:1.1936\tvalid-rmse:1.19892\n",
            "[16]\ttrain-rmse:1.09077\tvalid-rmse:1.09662\n",
            "[17]\ttrain-rmse:0.999713\tvalid-rmse:1.00599\n",
            "[18]\ttrain-rmse:0.919279\tvalid-rmse:0.926096\n",
            "[19]\ttrain-rmse:0.848569\tvalid-rmse:0.855759\n",
            "[20]\ttrain-rmse:0.786379\tvalid-rmse:0.794008\n",
            "[21]\ttrain-rmse:0.732243\tvalid-rmse:0.740471\n",
            "[22]\ttrain-rmse:0.68493\tvalid-rmse:0.69368\n",
            "[23]\ttrain-rmse:0.644266\tvalid-rmse:0.653504\n",
            "[24]\ttrain-rmse:0.60901\tvalid-rmse:0.618754\n",
            "[25]\ttrain-rmse:0.57887\tvalid-rmse:0.589013\n",
            "[26]\ttrain-rmse:0.553027\tvalid-rmse:0.563627\n",
            "[27]\ttrain-rmse:0.53086\tvalid-rmse:0.542194\n",
            "[28]\ttrain-rmse:0.512267\tvalid-rmse:0.523891\n",
            "[29]\ttrain-rmse:0.49657\tvalid-rmse:0.508507\n",
            "[30]\ttrain-rmse:0.483559\tvalid-rmse:0.49574\n",
            "[31]\ttrain-rmse:0.472551\tvalid-rmse:0.485062\n",
            "[32]\ttrain-rmse:0.463431\tvalid-rmse:0.476122\n",
            "[33]\ttrain-rmse:0.455909\tvalid-rmse:0.468802\n",
            "[34]\ttrain-rmse:0.449496\tvalid-rmse:0.462605\n",
            "[35]\ttrain-rmse:0.443504\tvalid-rmse:0.457182\n",
            "[36]\ttrain-rmse:0.438825\tvalid-rmse:0.452783\n",
            "[37]\ttrain-rmse:0.434891\tvalid-rmse:0.449045\n",
            "[38]\ttrain-rmse:0.431625\tvalid-rmse:0.446069\n",
            "[39]\ttrain-rmse:0.42897\tvalid-rmse:0.443485\n",
            "[40]\ttrain-rmse:0.42668\tvalid-rmse:0.441369\n",
            "[41]\ttrain-rmse:0.42459\tvalid-rmse:0.439368\n",
            "[42]\ttrain-rmse:0.422957\tvalid-rmse:0.437924\n",
            "[43]\ttrain-rmse:0.421604\tvalid-rmse:0.436631\n",
            "[44]\ttrain-rmse:0.420461\tvalid-rmse:0.435591\n",
            "[45]\ttrain-rmse:0.41908\tvalid-rmse:0.434254\n",
            "[46]\ttrain-rmse:0.41803\tvalid-rmse:0.43323\n",
            "[47]\ttrain-rmse:0.417013\tvalid-rmse:0.432447\n",
            "[48]\ttrain-rmse:0.416299\tvalid-rmse:0.431804\n",
            "[49]\ttrain-rmse:0.41566\tvalid-rmse:0.431285\n",
            "[0]\ttrain-rmse:5.40195\tvalid-rmse:5.40237\n",
            "Multiple eval metrics have been passed: 'valid-rmse' will be used for early stopping.\n",
            "\n",
            "Will train until valid-rmse hasn't improved in 10 rounds.\n",
            "[1]\ttrain-rmse:4.86593\tvalid-rmse:4.86666\n",
            "[2]\ttrain-rmse:4.38389\tvalid-rmse:4.38493\n",
            "[3]\ttrain-rmse:3.95058\tvalid-rmse:3.95197\n",
            "[4]\ttrain-rmse:3.56108\tvalid-rmse:3.56281\n",
            "[5]\ttrain-rmse:3.21114\tvalid-rmse:3.2131\n",
            "[6]\ttrain-rmse:2.89676\tvalid-rmse:2.89904\n",
            "[7]\ttrain-rmse:2.61443\tvalid-rmse:2.617\n",
            "[8]\ttrain-rmse:2.36109\tvalid-rmse:2.36381\n",
            "[9]\ttrain-rmse:2.13387\tvalid-rmse:2.13687\n",
            "[10]\ttrain-rmse:1.93026\tvalid-rmse:1.93374\n",
            "[11]\ttrain-rmse:1.74794\tvalid-rmse:1.7518\n",
            "[12]\ttrain-rmse:1.58473\tvalid-rmse:1.58891\n",
            "[13]\ttrain-rmse:1.43902\tvalid-rmse:1.4436\n",
            "[14]\ttrain-rmse:1.30921\tvalid-rmse:1.31416\n",
            "[15]\ttrain-rmse:1.19362\tvalid-rmse:1.19895\n",
            "[16]\ttrain-rmse:1.09078\tvalid-rmse:1.09665\n",
            "[17]\ttrain-rmse:0.999682\tvalid-rmse:1.00599\n",
            "[18]\ttrain-rmse:0.919262\tvalid-rmse:0.926159\n",
            "[19]\ttrain-rmse:0.848481\tvalid-rmse:0.855798\n",
            "[20]\ttrain-rmse:0.786408\tvalid-rmse:0.794247\n",
            "[21]\ttrain-rmse:0.732311\tvalid-rmse:0.740667\n",
            "[22]\ttrain-rmse:0.685154\tvalid-rmse:0.693933\n",
            "[23]\ttrain-rmse:0.644507\tvalid-rmse:0.653733\n",
            "[24]\ttrain-rmse:0.609185\tvalid-rmse:0.618847\n",
            "[25]\ttrain-rmse:0.578937\tvalid-rmse:0.589018\n",
            "[26]\ttrain-rmse:0.553192\tvalid-rmse:0.563663\n",
            "[27]\ttrain-rmse:0.531131\tvalid-rmse:0.542295\n",
            "[28]\ttrain-rmse:0.512672\tvalid-rmse:0.524208\n",
            "[29]\ttrain-rmse:0.497131\tvalid-rmse:0.50892\n",
            "[30]\ttrain-rmse:0.484074\tvalid-rmse:0.496114\n",
            "[31]\ttrain-rmse:0.473156\tvalid-rmse:0.485399\n",
            "[32]\ttrain-rmse:0.464038\tvalid-rmse:0.476578\n",
            "[33]\ttrain-rmse:0.45652\tvalid-rmse:0.469226\n",
            "[34]\ttrain-rmse:0.450106\tvalid-rmse:0.463056\n",
            "[35]\ttrain-rmse:0.444545\tvalid-rmse:0.457935\n",
            "[36]\ttrain-rmse:0.439882\tvalid-rmse:0.453439\n",
            "[37]\ttrain-rmse:0.436175\tvalid-rmse:0.449803\n",
            "[38]\ttrain-rmse:0.433001\tvalid-rmse:0.446774\n",
            "[39]\ttrain-rmse:0.430027\tvalid-rmse:0.444163\n",
            "[40]\ttrain-rmse:0.427756\tvalid-rmse:0.442056\n",
            "[41]\ttrain-rmse:0.425633\tvalid-rmse:0.440056\n",
            "[42]\ttrain-rmse:0.423431\tvalid-rmse:0.438234\n",
            "[43]\ttrain-rmse:0.421905\tvalid-rmse:0.437129\n",
            "[44]\ttrain-rmse:0.420568\tvalid-rmse:0.435833\n",
            "[45]\ttrain-rmse:0.419596\tvalid-rmse:0.434939\n",
            "[46]\ttrain-rmse:0.418424\tvalid-rmse:0.434111\n",
            "[47]\ttrain-rmse:0.417584\tvalid-rmse:0.433329\n",
            "[48]\ttrain-rmse:0.416866\tvalid-rmse:0.432727\n",
            "[49]\ttrain-rmse:0.415912\tvalid-rmse:0.431996\n",
            "[0]\ttrain-rmse:5.40195\tvalid-rmse:5.40237\n",
            "Multiple eval metrics have been passed: 'valid-rmse' will be used for early stopping.\n",
            "\n",
            "Will train until valid-rmse hasn't improved in 10 rounds.\n",
            "[1]\ttrain-rmse:4.86593\tvalid-rmse:4.86666\n",
            "[2]\ttrain-rmse:4.38389\tvalid-rmse:4.38493\n",
            "[3]\ttrain-rmse:3.95058\tvalid-rmse:3.95197\n",
            "[4]\ttrain-rmse:3.56108\tvalid-rmse:3.56281\n",
            "[5]\ttrain-rmse:3.21112\tvalid-rmse:3.21307\n",
            "[6]\ttrain-rmse:2.89674\tvalid-rmse:2.89901\n",
            "[7]\ttrain-rmse:2.61443\tvalid-rmse:2.61698\n",
            "[8]\ttrain-rmse:2.3611\tvalid-rmse:2.3638\n",
            "[9]\ttrain-rmse:2.13386\tvalid-rmse:2.13686\n",
            "[10]\ttrain-rmse:1.93026\tvalid-rmse:1.93373\n",
            "[11]\ttrain-rmse:1.74802\tvalid-rmse:1.75181\n",
            "[12]\ttrain-rmse:1.58481\tvalid-rmse:1.58891\n",
            "[13]\ttrain-rmse:1.4391\tvalid-rmse:1.44362\n",
            "[14]\ttrain-rmse:1.30924\tvalid-rmse:1.31418\n",
            "[15]\ttrain-rmse:1.19367\tvalid-rmse:1.19899\n",
            "[16]\ttrain-rmse:1.09091\tvalid-rmse:1.09676\n",
            "[17]\ttrain-rmse:0.999847\tvalid-rmse:1.00612\n",
            "[18]\ttrain-rmse:0.919393\tvalid-rmse:0.926199\n",
            "[19]\ttrain-rmse:0.848613\tvalid-rmse:0.855847\n",
            "[20]\ttrain-rmse:0.786499\tvalid-rmse:0.794264\n",
            "[21]\ttrain-rmse:0.732364\tvalid-rmse:0.740834\n",
            "[22]\ttrain-rmse:0.685116\tvalid-rmse:0.694006\n",
            "[23]\ttrain-rmse:0.644421\tvalid-rmse:0.653848\n",
            "[24]\ttrain-rmse:0.609221\tvalid-rmse:0.618985\n",
            "[25]\ttrain-rmse:0.57912\tvalid-rmse:0.589388\n",
            "[26]\ttrain-rmse:0.553306\tvalid-rmse:0.563976\n",
            "[27]\ttrain-rmse:0.531152\tvalid-rmse:0.542516\n",
            "[28]\ttrain-rmse:0.512632\tvalid-rmse:0.524309\n",
            "[29]\ttrain-rmse:0.496917\tvalid-rmse:0.508962\n",
            "[30]\ttrain-rmse:0.483963\tvalid-rmse:0.496241\n",
            "[31]\ttrain-rmse:0.473034\tvalid-rmse:0.485703\n",
            "[32]\ttrain-rmse:0.463941\tvalid-rmse:0.476833\n",
            "[33]\ttrain-rmse:0.456479\tvalid-rmse:0.469552\n",
            "[34]\ttrain-rmse:0.4501\tvalid-rmse:0.463345\n",
            "[35]\ttrain-rmse:0.444545\tvalid-rmse:0.45829\n",
            "[36]\ttrain-rmse:0.439536\tvalid-rmse:0.453593\n",
            "[37]\ttrain-rmse:0.43592\tvalid-rmse:0.450027\n",
            "[38]\ttrain-rmse:0.432772\tvalid-rmse:0.447108\n",
            "[39]\ttrain-rmse:0.429955\tvalid-rmse:0.444588\n",
            "[40]\ttrain-rmse:0.427634\tvalid-rmse:0.442334\n",
            "[41]\ttrain-rmse:0.425646\tvalid-rmse:0.440339\n",
            "[42]\ttrain-rmse:0.424004\tvalid-rmse:0.438789\n",
            "[43]\ttrain-rmse:0.422198\tvalid-rmse:0.437186\n",
            "[44]\ttrain-rmse:0.421072\tvalid-rmse:0.436124\n",
            "[45]\ttrain-rmse:0.420084\tvalid-rmse:0.435202\n",
            "[46]\ttrain-rmse:0.419041\tvalid-rmse:0.434173\n",
            "[47]\ttrain-rmse:0.418073\tvalid-rmse:0.433455\n",
            "[48]\ttrain-rmse:0.417354\tvalid-rmse:0.432826\n",
            "[49]\ttrain-rmse:0.416601\tvalid-rmse:0.43226\n",
            "[0]\ttrain-rmse:4.21212\tvalid-rmse:4.21338\n",
            "Multiple eval metrics have been passed: 'valid-rmse' will be used for early stopping.\n",
            "\n",
            "Will train until valid-rmse hasn't improved in 10 rounds.\n",
            "[1]\ttrain-rmse:2.96627\tvalid-rmse:2.96827\n",
            "[2]\ttrain-rmse:2.10074\tvalid-rmse:2.10383\n",
            "[3]\ttrain-rmse:1.50433\tvalid-rmse:1.50875\n",
            "[4]\ttrain-rmse:1.09861\tvalid-rmse:1.10401\n",
            "[5]\ttrain-rmse:0.829688\tvalid-rmse:0.83703\n",
            "[6]\ttrain-rmse:0.65784\tvalid-rmse:0.666561\n",
            "[7]\ttrain-rmse:0.553432\tvalid-rmse:0.563718\n",
            "[8]\ttrain-rmse:0.4928\tvalid-rmse:0.504666\n",
            "[9]\ttrain-rmse:0.459483\tvalid-rmse:0.472258\n",
            "[10]\ttrain-rmse:0.440432\tvalid-rmse:0.453783\n",
            "[11]\ttrain-rmse:0.430732\tvalid-rmse:0.444457\n",
            "[12]\ttrain-rmse:0.425112\tvalid-rmse:0.439422\n",
            "[13]\ttrain-rmse:0.421824\tvalid-rmse:0.436261\n",
            "[14]\ttrain-rmse:0.417786\tvalid-rmse:0.433563\n",
            "[15]\ttrain-rmse:0.41565\tvalid-rmse:0.43186\n",
            "[16]\ttrain-rmse:0.414311\tvalid-rmse:0.430778\n",
            "[17]\ttrain-rmse:0.412942\tvalid-rmse:0.430082\n",
            "[18]\ttrain-rmse:0.411353\tvalid-rmse:0.429126\n",
            "[19]\ttrain-rmse:0.410047\tvalid-rmse:0.428337\n",
            "[20]\ttrain-rmse:0.40901\tvalid-rmse:0.427531\n",
            "[21]\ttrain-rmse:0.408296\tvalid-rmse:0.427235\n",
            "[22]\ttrain-rmse:0.407427\tvalid-rmse:0.426507\n",
            "[23]\ttrain-rmse:0.406874\tvalid-rmse:0.425924\n",
            "[24]\ttrain-rmse:0.406286\tvalid-rmse:0.42545\n",
            "[25]\ttrain-rmse:0.405514\tvalid-rmse:0.425109\n",
            "[26]\ttrain-rmse:0.405005\tvalid-rmse:0.424836\n",
            "[27]\ttrain-rmse:0.40384\tvalid-rmse:0.424187\n",
            "[28]\ttrain-rmse:0.403126\tvalid-rmse:0.424017\n",
            "[29]\ttrain-rmse:0.402252\tvalid-rmse:0.423927\n",
            "[30]\ttrain-rmse:0.401806\tvalid-rmse:0.423746\n",
            "[31]\ttrain-rmse:0.401217\tvalid-rmse:0.423334\n",
            "[32]\ttrain-rmse:0.400621\tvalid-rmse:0.423096\n",
            "[33]\ttrain-rmse:0.400284\tvalid-rmse:0.422889\n",
            "[34]\ttrain-rmse:0.399358\tvalid-rmse:0.422772\n",
            "[35]\ttrain-rmse:0.398937\tvalid-rmse:0.422514\n",
            "[36]\ttrain-rmse:0.398065\tvalid-rmse:0.421963\n",
            "[37]\ttrain-rmse:0.397337\tvalid-rmse:0.421994\n",
            "[38]\ttrain-rmse:0.396971\tvalid-rmse:0.421703\n",
            "[39]\ttrain-rmse:0.396519\tvalid-rmse:0.42163\n",
            "[40]\ttrain-rmse:0.395494\tvalid-rmse:0.421596\n",
            "[41]\ttrain-rmse:0.39487\tvalid-rmse:0.421266\n",
            "[42]\ttrain-rmse:0.394302\tvalid-rmse:0.421563\n",
            "[43]\ttrain-rmse:0.393579\tvalid-rmse:0.421075\n",
            "[44]\ttrain-rmse:0.393393\tvalid-rmse:0.420956\n",
            "[45]\ttrain-rmse:0.393012\tvalid-rmse:0.421316\n",
            "[46]\ttrain-rmse:0.392562\tvalid-rmse:0.421241\n",
            "[47]\ttrain-rmse:0.391984\tvalid-rmse:0.420829\n",
            "[48]\ttrain-rmse:0.391614\tvalid-rmse:0.420635\n",
            "[49]\ttrain-rmse:0.391277\tvalid-rmse:0.420555\n",
            "[0]\ttrain-rmse:4.21212\tvalid-rmse:4.21338\n",
            "Multiple eval metrics have been passed: 'valid-rmse' will be used for early stopping.\n",
            "\n",
            "Will train until valid-rmse hasn't improved in 10 rounds.\n",
            "[1]\ttrain-rmse:2.96627\tvalid-rmse:2.96827\n",
            "[2]\ttrain-rmse:2.10074\tvalid-rmse:2.10383\n",
            "[3]\ttrain-rmse:1.50433\tvalid-rmse:1.50871\n",
            "[4]\ttrain-rmse:1.09862\tvalid-rmse:1.10398\n",
            "[5]\ttrain-rmse:0.829722\tvalid-rmse:0.837017\n",
            "[6]\ttrain-rmse:0.657894\tvalid-rmse:0.666591\n",
            "[7]\ttrain-rmse:0.553652\tvalid-rmse:0.563852\n",
            "[8]\ttrain-rmse:0.493705\tvalid-rmse:0.504759\n",
            "[9]\ttrain-rmse:0.460628\tvalid-rmse:0.472437\n",
            "[10]\ttrain-rmse:0.441254\tvalid-rmse:0.453666\n",
            "[11]\ttrain-rmse:0.430635\tvalid-rmse:0.443964\n",
            "[12]\ttrain-rmse:0.42495\tvalid-rmse:0.43886\n",
            "[13]\ttrain-rmse:0.421497\tvalid-rmse:0.435573\n",
            "[14]\ttrain-rmse:0.418805\tvalid-rmse:0.433239\n",
            "[15]\ttrain-rmse:0.415792\tvalid-rmse:0.431079\n",
            "[16]\ttrain-rmse:0.414309\tvalid-rmse:0.430186\n",
            "[17]\ttrain-rmse:0.412849\tvalid-rmse:0.429672\n",
            "[18]\ttrain-rmse:0.411988\tvalid-rmse:0.429177\n",
            "[19]\ttrain-rmse:0.411046\tvalid-rmse:0.428274\n",
            "[20]\ttrain-rmse:0.409555\tvalid-rmse:0.427056\n",
            "[21]\ttrain-rmse:0.408912\tvalid-rmse:0.426698\n",
            "[22]\ttrain-rmse:0.408145\tvalid-rmse:0.42608\n",
            "[23]\ttrain-rmse:0.40714\tvalid-rmse:0.425734\n",
            "[24]\ttrain-rmse:0.406254\tvalid-rmse:0.425405\n",
            "[25]\ttrain-rmse:0.405321\tvalid-rmse:0.424729\n",
            "[26]\ttrain-rmse:0.404614\tvalid-rmse:0.42435\n",
            "[27]\ttrain-rmse:0.403968\tvalid-rmse:0.423853\n",
            "[28]\ttrain-rmse:0.403532\tvalid-rmse:0.423661\n",
            "[29]\ttrain-rmse:0.402913\tvalid-rmse:0.423528\n",
            "[30]\ttrain-rmse:0.402464\tvalid-rmse:0.423132\n",
            "[31]\ttrain-rmse:0.402098\tvalid-rmse:0.422842\n",
            "[32]\ttrain-rmse:0.401382\tvalid-rmse:0.42242\n",
            "[33]\ttrain-rmse:0.400983\tvalid-rmse:0.422218\n",
            "[34]\ttrain-rmse:0.400026\tvalid-rmse:0.421714\n",
            "[35]\ttrain-rmse:0.399632\tvalid-rmse:0.421567\n",
            "[36]\ttrain-rmse:0.399333\tvalid-rmse:0.421366\n",
            "[37]\ttrain-rmse:0.398535\tvalid-rmse:0.421626\n",
            "[38]\ttrain-rmse:0.397899\tvalid-rmse:0.421226\n",
            "[39]\ttrain-rmse:0.397699\tvalid-rmse:0.421132\n",
            "[40]\ttrain-rmse:0.397261\tvalid-rmse:0.420773\n",
            "[41]\ttrain-rmse:0.396876\tvalid-rmse:0.420531\n",
            "[42]\ttrain-rmse:0.396347\tvalid-rmse:0.420357\n",
            "[43]\ttrain-rmse:0.395879\tvalid-rmse:0.420175\n",
            "[44]\ttrain-rmse:0.3954\tvalid-rmse:0.420008\n",
            "[45]\ttrain-rmse:0.395127\tvalid-rmse:0.420009\n",
            "[46]\ttrain-rmse:0.394453\tvalid-rmse:0.420434\n",
            "[47]\ttrain-rmse:0.39407\tvalid-rmse:0.420276\n",
            "[48]\ttrain-rmse:0.393555\tvalid-rmse:0.42029\n",
            "[49]\ttrain-rmse:0.393005\tvalid-rmse:0.420018\n",
            "[0]\ttrain-rmse:4.21212\tvalid-rmse:4.21338\n",
            "Multiple eval metrics have been passed: 'valid-rmse' will be used for early stopping.\n",
            "\n",
            "Will train until valid-rmse hasn't improved in 10 rounds.\n",
            "[1]\ttrain-rmse:2.96627\tvalid-rmse:2.96827\n",
            "[2]\ttrain-rmse:2.10074\tvalid-rmse:2.10383\n",
            "[3]\ttrain-rmse:1.50434\tvalid-rmse:1.50864\n",
            "[4]\ttrain-rmse:1.09859\tvalid-rmse:1.10394\n",
            "[5]\ttrain-rmse:0.830039\tvalid-rmse:0.836986\n",
            "[6]\ttrain-rmse:0.658382\tvalid-rmse:0.66649\n",
            "[7]\ttrain-rmse:0.55419\tvalid-rmse:0.56371\n",
            "[8]\ttrain-rmse:0.494441\tvalid-rmse:0.504736\n",
            "[9]\ttrain-rmse:0.461417\tvalid-rmse:0.472439\n",
            "[10]\ttrain-rmse:0.441348\tvalid-rmse:0.453487\n",
            "[11]\ttrain-rmse:0.431084\tvalid-rmse:0.444091\n",
            "[12]\ttrain-rmse:0.425303\tvalid-rmse:0.438775\n",
            "[13]\ttrain-rmse:0.42163\tvalid-rmse:0.435331\n",
            "[14]\ttrain-rmse:0.41854\tvalid-rmse:0.432587\n",
            "[15]\ttrain-rmse:0.416845\tvalid-rmse:0.431161\n",
            "[16]\ttrain-rmse:0.415535\tvalid-rmse:0.430379\n",
            "[17]\ttrain-rmse:0.414534\tvalid-rmse:0.429795\n",
            "[18]\ttrain-rmse:0.413711\tvalid-rmse:0.429039\n",
            "[19]\ttrain-rmse:0.412792\tvalid-rmse:0.428454\n",
            "[20]\ttrain-rmse:0.411698\tvalid-rmse:0.427921\n",
            "[21]\ttrain-rmse:0.41069\tvalid-rmse:0.42737\n",
            "[22]\ttrain-rmse:0.409257\tvalid-rmse:0.426676\n",
            "[23]\ttrain-rmse:0.408625\tvalid-rmse:0.426524\n",
            "[24]\ttrain-rmse:0.407414\tvalid-rmse:0.425444\n",
            "[25]\ttrain-rmse:0.406527\tvalid-rmse:0.42496\n",
            "[26]\ttrain-rmse:0.406078\tvalid-rmse:0.424635\n",
            "[27]\ttrain-rmse:0.405217\tvalid-rmse:0.424244\n",
            "[28]\ttrain-rmse:0.404328\tvalid-rmse:0.423855\n",
            "[29]\ttrain-rmse:0.403766\tvalid-rmse:0.423834\n",
            "[30]\ttrain-rmse:0.40327\tvalid-rmse:0.423359\n",
            "[31]\ttrain-rmse:0.402833\tvalid-rmse:0.422993\n",
            "[32]\ttrain-rmse:0.402194\tvalid-rmse:0.42286\n",
            "[33]\ttrain-rmse:0.401868\tvalid-rmse:0.422685\n",
            "[34]\ttrain-rmse:0.401277\tvalid-rmse:0.42241\n",
            "[35]\ttrain-rmse:0.400327\tvalid-rmse:0.42201\n",
            "[36]\ttrain-rmse:0.399885\tvalid-rmse:0.421853\n",
            "[37]\ttrain-rmse:0.399268\tvalid-rmse:0.421713\n",
            "[38]\ttrain-rmse:0.398648\tvalid-rmse:0.421389\n",
            "[39]\ttrain-rmse:0.398339\tvalid-rmse:0.421374\n",
            "[40]\ttrain-rmse:0.397787\tvalid-rmse:0.420974\n",
            "[41]\ttrain-rmse:0.397397\tvalid-rmse:0.42064\n",
            "[42]\ttrain-rmse:0.396909\tvalid-rmse:0.4204\n",
            "[43]\ttrain-rmse:0.396727\tvalid-rmse:0.420214\n",
            "[44]\ttrain-rmse:0.396478\tvalid-rmse:0.420168\n",
            "[45]\ttrain-rmse:0.396065\tvalid-rmse:0.420048\n",
            "[46]\ttrain-rmse:0.39494\tvalid-rmse:0.420613\n",
            "[47]\ttrain-rmse:0.394726\tvalid-rmse:0.420393\n",
            "[48]\ttrain-rmse:0.394107\tvalid-rmse:0.420331\n",
            "[49]\ttrain-rmse:0.393539\tvalid-rmse:0.420084\n"
          ]
        }
      ]
    },
    {
      "cell_type": "code",
      "source": [
        "print('Modeling RMSLE %.5f' % model.best_score)"
      ],
      "metadata": {
        "id": "A5CxrkerzaHf",
        "outputId": "e3782fdd-3e43-4807-d3f3-8b20009e36f8",
        "colab": {
          "base_uri": "https://localhost:8080/"
        }
      },
      "execution_count": 78,
      "outputs": [
        {
          "output_type": "stream",
          "name": "stdout",
          "text": [
            "Modeling RMSLE 0.42005\n"
          ]
        }
      ]
    },
    {
      "cell_type": "code",
      "source": [
        "xgb.plot_importance(model, max_num_features=28, height=0.7)"
      ],
      "metadata": {
        "id": "n-IBVPbIzicC",
        "outputId": "4a66d161-7c9c-4c2c-b865-ff18f83e9597",
        "colab": {
          "base_uri": "https://localhost:8080/",
          "height": 319
        }
      },
      "execution_count": 79,
      "outputs": [
        {
          "output_type": "execute_result",
          "data": {
            "text/plain": [
              "<matplotlib.axes._subplots.AxesSubplot at 0x7f97df5b9110>"
            ]
          },
          "metadata": {},
          "execution_count": 79
        },
        {
          "output_type": "display_data",
          "data": {
            "text/plain": [
              "<Figure size 432x288 with 1 Axes>"
            ],
            "image/png": "[encoded data removed]"
          },
          "metadata": {
            "needs_background": "light"
          }
        }
      ]
    },
    {
      "cell_type": "code",
      "source": [
        "# Predict the test set using the fitted model\n",
        "pred = model.predict(dtest)\n",
        "pred = np.exp(pred) - 1"
      ],
      "metadata": {
        "id": "TsGnXil6zqBV"
      },
      "execution_count": 80,
      "outputs": []
    },
    {
      "cell_type": "code",
      "source": [
        "# This is the resulting prediction for the test data\n",
        "predDF = pd.DataFrame(pred)\n",
        "predDF"
      ],
      "metadata": {
        "id": "DFGDVSJ_zzxb",
        "outputId": "a1d98f1b-4740-4ec4-b0da-c7e6c56e2064",
        "colab": {
          "base_uri": "https://localhost:8080/",
          "height": 488
        }
      },
      "execution_count": 81,
      "outputs": [
        {
          "output_type": "execute_result",
          "data": {
            "text/plain": [
              "              0\n",
              "0      1138.505\n",
              "1       927.712\n",
              "2       518.416\n",
              "3      1196.457\n",
              "4       372.608\n",
              "...         ...\n",
              "625129  291.324\n",
              "625130 1125.758\n",
              "625131 1411.976\n",
              "625132 2080.299\n",
              "625133 1329.367\n",
              "\n",
              "[625134 rows x 1 columns]"
            ],
            "text/html": [
              "\n",
              "  <div id=\"df-b4f765e6-cb00-4af2-bec1-45923a165c32\">\n",
              "    <div class=\"colab-df-container\">\n",
              "      <div>\n",
              "<style scoped>\n",
              "    .dataframe tbody tr th:only-of-type {\n",
              "        vertical-align: middle;\n",
              "    }\n",
              "\n",
              "    .dataframe tbody tr th {\n",
              "        vertical-align: top;\n",
              "    }\n",
              "\n",
              "    .dataframe thead th {\n",
              "        text-align: right;\n",
              "    }\n",
              "</style>\n",
              "<table border=\"1\" class=\"dataframe\">\n",
              "  <thead>\n",
              "    <tr style=\"text-align: right;\">\n",
              "      <th></th>\n",
              "      <th>0</th>\n",
              "    </tr>\n",
              "  </thead>\n",
              "  <tbody>\n",
              "    <tr>\n",
              "      <th>0</th>\n",
              "      <td>1138.505</td>\n",
              "    </tr>\n",
              "    <tr>\n",
              "      <th>1</th>\n",
              "      <td>927.712</td>\n",
              "    </tr>\n",
              "    <tr>\n",
              "      <th>2</th>\n",
              "      <td>518.416</td>\n",
              "    </tr>\n",
              "    <tr>\n",
              "      <th>3</th>\n",
              "      <td>1196.457</td>\n",
              "    </tr>\n",
              "    <tr>\n",
              "      <th>4</th>\n",
              "      <td>372.608</td>\n",
              "    </tr>\n",
              "    <tr>\n",
              "      <th>...</th>\n",
              "      <td>...</td>\n",
              "    </tr>\n",
              "    <tr>\n",
              "      <th>625129</th>\n",
              "      <td>291.324</td>\n",
              "    </tr>\n",
              "    <tr>\n",
              "      <th>625130</th>\n",
              "      <td>1125.758</td>\n",
              "    </tr>\n",
              "    <tr>\n",
              "      <th>625131</th>\n",
              "      <td>1411.976</td>\n",
              "    </tr>\n",
              "    <tr>\n",
              "      <th>625132</th>\n",
              "      <td>2080.299</td>\n",
              "    </tr>\n",
              "    <tr>\n",
              "      <th>625133</th>\n",
              "      <td>1329.367</td>\n",
              "    </tr>\n",
              "  </tbody>\n",
              "</table>\n",
              "<p>625134 rows × 1 columns</p>\n",
              "</div>\n",
              "      <button class=\"colab-df-convert\" onclick=\"convertToInteractive('df-b4f765e6-cb00-4af2-bec1-45923a165c32')\"\n",
              "              title=\"Convert this dataframe to an interactive table.\"\n",
              "              style=\"display:none;\">\n",
              "        \n",
              "  <svg xmlns=\"http://www.w3.org/2000/svg\" height=\"24px\"viewBox=\"0 0 24 24\"\n",
              "       width=\"24px\">\n",
              "    <path d=\"M0 0h24v24H0V0z\" fill=\"none\"/>\n",
              "    <path d=\"M18.56 5.44l.94 2.06.94-2.06 2.06-.94-2.06-.94-.94-2.06-.94 2.06-2.06.94zm-11 1L8.5 8.5l.94-2.06 2.06-.94-2.06-.94L8.5 2.5l-.94 2.06-2.06.94zm10 10l.94 2.06.94-2.06 2.06-.94-2.06-.94-.94-2.06-.94 2.06-2.06.94z\"/><path d=\"M17.41 7.96l-1.37-1.37c-.4-.4-.92-.59-1.43-.59-.52 0-1.04.2-1.43.59L10.3 9.45l-7.72 7.72c-.78.78-.78 2.05 0 2.83L4 21.41c.39.39.9.59 1.41.59.51 0 1.02-.2 1.41-.59l7.78-7.78 2.81-2.81c.8-.78.8-2.07 0-2.86zM5.41 20L4 18.59l7.72-7.72 1.47 1.35L5.41 20z\"/>\n",
              "  </svg>\n",
              "      </button>\n",
              "      \n",
              "  <style>\n",
              "    .colab-df-container {\n",
              "      display:flex;\n",
              "      flex-wrap:wrap;\n",
              "      gap: 12px;\n",
              "    }\n",
              "\n",
              "    .colab-df-convert {\n",
              "      background-color: #E8F0FE;\n",
              "      border: none;\n",
              "      border-radius: 50%;\n",
              "      cursor: pointer;\n",
              "      display: none;\n",
              "      fill: #1967D2;\n",
              "      height: 32px;\n",
              "      padding: 0 0 0 0;\n",
              "      width: 32px;\n",
              "    }\n",
              "\n",
              "    .colab-df-convert:hover {\n",
              "      background-color: #E2EBFA;\n",
              "      box-shadow: 0px 1px 2px rgba(60, 64, 67, 0.3), 0px 1px 3px 1px rgba(60, 64, 67, 0.15);\n",
              "      fill: #174EA6;\n",
              "    }\n",
              "\n",
              "    [theme=dark] .colab-df-convert {\n",
              "      background-color: #3B4455;\n",
              "      fill: #D2E3FC;\n",
              "    }\n",
              "\n",
              "    [theme=dark] .colab-df-convert:hover {\n",
              "      background-color: #434B5C;\n",
              "      box-shadow: 0px 1px 3px 1px rgba(0, 0, 0, 0.15);\n",
              "      filter: drop-shadow(0px 1px 2px rgba(0, 0, 0, 0.3));\n",
              "      fill: #FFFFFF;\n",
              "    }\n",
              "  </style>\n",
              "\n",
              "      <script>\n",
              "        const buttonEl =\n",
              "          document.querySelector('#df-b4f765e6-cb00-4af2-bec1-45923a165c32 button.colab-df-convert');\n",
              "        buttonEl.style.display =\n",
              "          google.colab.kernel.accessAllowed ? 'block' : 'none';\n",
              "\n",
              "        async function convertToInteractive(key) {\n",
              "          const element = document.querySelector('#df-b4f765e6-cb00-4af2-bec1-45923a165c32');\n",
              "          const dataTable =\n",
              "            await google.colab.kernel.invokeFunction('convertToInteractive',\n",
              "                                                     [key], {});\n",
              "          if (!dataTable) return;\n",
              "\n",
              "          const docLinkHtml = 'Like what you see? Visit the ' +\n",
              "            '<a target=\"_blank\" href=https://colab.research.google.com/notebooks/data_table.ipynb>data table notebook</a>'\n",
              "            + ' to learn more about interactive tables.';\n",
              "          element.innerHTML = '';\n",
              "          dataTable['output_type'] = 'display_data';\n",
              "          await google.colab.output.renderOutput(dataTable, element);\n",
              "          const docLink = document.createElement('div');\n",
              "          docLink.innerHTML = docLinkHtml;\n",
              "          element.appendChild(docLink);\n",
              "        }\n",
              "      </script>\n",
              "    </div>\n",
              "  </div>\n",
              "  "
            ]
          },
          "metadata": {},
          "execution_count": 81
        }
      ]
    },
    {
      "cell_type": "code",
      "source": [
        "# Make sure to uncomment the unzip once you're done"
      ],
      "metadata": {
        "id": "i4mCKYk8ocyZ"
      },
      "execution_count": null,
      "outputs": []
    }
  ]
}